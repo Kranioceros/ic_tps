{
 "metadata": {
  "language_info": {
   "codemirror_mode": {
    "name": "ipython",
    "version": 3
   },
   "file_extension": ".py",
   "mimetype": "text/x-python",
   "name": "python",
   "nbconvert_exporter": "python",
   "pygments_lexer": "ipython3",
   "version": "3.6.8-final"
  },
  "orig_nbformat": 2,
  "kernelspec": {
   "name": "python3",
   "display_name": "Python 3"
  }
 },
 "nbformat": 4,
 "nbformat_minor": 2,
 "cells": [
  {
   "cell_type": "code",
   "execution_count": 1,
   "metadata": {},
   "outputs": [
    {
     "output_type": "stream",
     "name": "stdout",
     "text": [
      "d:\\Documentos\\ic_tps\\SRS\n"
     ]
    }
   ],
   "source": [
    "cd SRS/"
   ]
  },
  {
   "cell_type": "code",
   "execution_count": 2,
   "metadata": {},
   "outputs": [],
   "source": [
    "import numpy as np\n",
    "from srs import SM2\n",
    "from Evolutivo.evolutivo import GA\n",
    "from tqdm import tqdm\n",
    "from utils import fitness\n",
    "\n",
    "n_bits = 30\n",
    "\n",
    "# Alfa, Umbral, Phi(5), Psi(5)\n",
    "var_bits = np.ones(12, dtype=int) * 30\n",
    "var_lims = np.zeros(13, dtype=int)\n",
    "var_lims[:-1] = np.arange(0, 12) * var_bits\n",
    "var_lims[-1] = int(n_bits*12)\n",
    "var_min  = np.array(\n",
    "    [0, 0, -5, -5, -5, -5, -5, -5, -5, -5, -5, -5]\n",
    ")\n",
    "var_max  = np.array(\n",
    "    [5, 1, 5, 5, 5, 5, 5, 5, 5, 5, 5, 5]\n",
    ")\n",
    "\n",
    "interrev = 1 * 24 * 3600\n",
    "nvent = 5\n",
    "ancho_ventanas = np.exp( np.log(15) / nvent * np.arange(1, nvent+1))\n",
    "ancho_ventanas *= (24 * 3600)"
   ]
  },
  {
   "cell_type": "code",
   "execution_count": 3,
   "metadata": {},
   "outputs": [],
   "source": [
    "def DecoDecimal(v, a=var_min, b=var_max):\n",
    "    vs = []\n",
    "    for i in range(len(var_lims)-1):\n",
    "        vs.append(v[var_lims[i]:var_lims[i+1]])\n",
    "\n",
    "    xs = []\n",
    "    xs = np.zeros(a.size)\n",
    "\n",
    "    for (i,vi) in enumerate(vs):\n",
    "        k = len(vi)\n",
    "        d = sum(2**(k-np.array(range(1,k+1)))*vi)\n",
    "        xs[i] = a[i] + (d*((b[i]-a[i])/((2**k)-1)))\n",
    "\n",
    "    return xs"
   ]
  },
  {
   "cell_type": "code",
   "execution_count": 4,
   "metadata": {},
   "outputs": [
    {
     "output_type": "stream",
     "name": "stdout",
     "text": [
      "d:\\Documentos\\ic_tps\n"
     ]
    }
   ],
   "source": [
    "cd .."
   ]
  },
  {
   "cell_type": "code",
   "execution_count": 5,
   "metadata": {},
   "outputs": [],
   "source": [
    "#Cargar las matrices m_t, m_c, m_s y a lens\n",
    "m_t = np.load('SRS/data/times.npy')\n",
    "m_c = np.load('SRS/data/correct.npy')\n",
    "m_s = np.load('SRS/data/seen.npy')\n",
    "m_d = np.load('SRS/data/lexemes_dificulty.npy')\n",
    "lens = np.load('SRS/data/len_schedule.npy')\n",
    "lens = lens.astype(int)\n",
    "\n",
    "#Cargamos los acums (\"ASCO\")\n",
    "m_acum_cs = np.load('SRS/data/acum_c-res1000-sigma30.npy')\n",
    "m_acum_ss = np.load('SRS/data/acum_s-res1000-sigma30.npy')\n",
    "\n",
    "# NUMEROS MAGICOS\n",
    "N = m_t.shape[0]    #Cantidad total de schedules\n",
    "n = 100              #Cantidad de schedules para cada individuo\n",
    "\n",
    "# Inicializamos la clase SRGA, que preprocesa los datos si hace falta\n",
    "SM2.init_class(lens, m_t, m_c, m_s, m_d)"
   ]
  },
  {
   "cell_type": "code",
   "execution_count": 6,
   "metadata": {
    "tags": []
   },
   "outputs": [],
   "source": [
    "# Calculamos particiones\n",
    "N_parts = 5\n",
    "prct_train = .80\n",
    "len_part_train = int(N*prct_train)\n",
    "\n",
    "parts_train = []\n",
    "parts_test = []\n",
    "\n",
    "idx = np.arange(0, N)\n",
    "\n",
    "for i in range(N_parts):\n",
    "    np.random.shuffle(idx)\n",
    "\n",
    "    parts_train.append(list(idx[:len_part_train]))\n",
    "    parts_test.append(list(idx[len_part_train:]))\n"
   ]
  },
  {
   "cell_type": "code",
   "execution_count": 7,
   "metadata": {},
   "outputs": [
    {
     "output_type": "stream",
     "name": "stdout",
     "text": [
      "Schedules entrenamiento: 4993\n",
      "Schedules testeo: 1249\n",
      "Schedules totales: 6242\n"
     ]
    }
   ],
   "source": [
    "print(f\"Schedules entrenamiento: {len(parts_train[1])}\")\n",
    "print(f\"Schedules testeo: {len(parts_test[1])}\")\n",
    "print(f\"Schedules totales: {len(parts_test[1])+len(parts_train[1])}\")"
   ]
  },
  {
   "cell_type": "code",
   "execution_count": 8,
   "metadata": {},
   "outputs": [
    {
     "output_type": "stream",
     "name": "stdout",
     "text": [
      "ENTRENAMIENTO....\n",
      "0it [00:00, ?it/s]\n",
      "  0%|          | 0/50 [00:00<?, ?it/s]\n",
      "  2%|▏         | 1/50 [00:02<02:08,  2.63s/it]\n",
      "  4%|▍         | 2/50 [00:05<02:03,  2.58s/it]\n",
      "  6%|▌         | 3/50 [00:07<01:57,  2.50s/it]\n",
      "  8%|▊         | 4/50 [00:09<01:51,  2.43s/it]\n",
      " 10%|█         | 5/50 [00:12<01:48,  2.41s/it]\n",
      " 12%|█▏        | 6/50 [00:14<01:45,  2.39s/it]\n",
      " 14%|█▍        | 7/50 [00:16<01:42,  2.37s/it]\n",
      " 16%|█▌        | 8/50 [00:18<01:37,  2.33s/it]\n",
      " 18%|█▊        | 9/50 [00:21<01:33,  2.27s/it]\n",
      " 20%|██        | 10/50 [00:23<01:30,  2.27s/it]\n",
      " 22%|██▏       | 11/50 [00:25<01:28,  2.27s/it]\n",
      " 24%|██▍       | 12/50 [00:27<01:27,  2.29s/it]\n",
      " 26%|██▌       | 13/50 [00:30<01:27,  2.36s/it]\n",
      " 28%|██▊       | 14/50 [00:32<01:25,  2.37s/it]\n",
      " 30%|███       | 15/50 [00:35<01:22,  2.36s/it]\n",
      " 32%|███▏      | 16/50 [00:37<01:18,  2.31s/it]\n",
      " 34%|███▍      | 17/50 [00:39<01:14,  2.27s/it]\n",
      " 36%|███▌      | 18/50 [00:41<01:12,  2.26s/it]\n",
      " 38%|███▊      | 19/50 [00:44<01:09,  2.25s/it]\n",
      " 40%|████      | 20/50 [00:46<01:07,  2.25s/it]\n",
      " 42%|████▏     | 21/50 [00:48<01:04,  2.22s/it]\n",
      " 44%|████▍     | 22/50 [00:50<01:01,  2.20s/it]\n",
      " 46%|████▌     | 23/50 [00:52<00:59,  2.20s/it]\n",
      " 48%|████▊     | 24/50 [00:55<00:57,  2.21s/it]\n",
      " 50%|█████     | 25/50 [00:57<00:56,  2.24s/it]\n",
      " 52%|█████▏    | 26/50 [00:59<00:54,  2.26s/it]\n",
      " 54%|█████▍    | 27/50 [01:02<00:53,  2.35s/it]\n",
      " 56%|█████▌    | 28/50 [01:04<00:51,  2.34s/it]\n",
      " 58%|█████▊    | 29/50 [01:06<00:48,  2.32s/it]\n",
      " 60%|██████    | 30/50 [01:09<00:46,  2.30s/it]\n",
      " 62%|██████▏   | 31/50 [01:11<00:43,  2.29s/it]\n",
      " 64%|██████▍   | 32/50 [01:13<00:41,  2.28s/it]\n",
      " 66%|██████▌   | 33/50 [01:15<00:38,  2.27s/it]\n",
      " 68%|██████▊   | 34/50 [01:18<00:36,  2.30s/it]\n",
      " 70%|███████   | 35/50 [01:20<00:34,  2.28s/it]\n",
      " 72%|███████▏  | 36/50 [01:22<00:31,  2.28s/it]\n",
      " 74%|███████▍  | 37/50 [01:24<00:29,  2.28s/it]\n",
      " 76%|███████▌  | 38/50 [01:27<00:27,  2.26s/it]\n",
      " 78%|███████▊  | 39/50 [01:29<00:25,  2.27s/it]\n",
      " 80%|████████  | 40/50 [01:31<00:23,  2.32s/it]\n",
      " 82%|████████▏ | 41/50 [01:34<00:21,  2.37s/it]\n",
      " 84%|████████▍ | 42/50 [01:36<00:19,  2.40s/it]\n",
      " 86%|████████▌ | 43/50 [01:39<00:16,  2.41s/it]\n",
      " 88%|████████▊ | 44/50 [01:41<00:14,  2.37s/it]\n",
      " 90%|█████████ | 45/50 [01:43<00:11,  2.34s/it]\n",
      " 92%|█████████▏| 46/50 [01:46<00:09,  2.33s/it]\n",
      " 94%|█████████▍| 47/50 [01:48<00:06,  2.31s/it]\n",
      " 96%|█████████▌| 48/50 [01:50<00:04,  2.31s/it]\n",
      " 98%|█████████▊| 49/50 [01:53<00:02,  2.34s/it]\n",
      "100%|██████████| 50/50 [01:55<00:00,  2.34s/it]INFO PARTICION 1:\n",
      "MEDIA: 0.07766179843907114\n",
      "STD: 0.008930922848281187\n",
      "MEDIANA: 0.07639925007890293\n",
      "MAX: 0.1064187258017406\n",
      "MIN: 0.06439759382886279\n",
      "\n",
      "\n",
      "1it [01:55, 115.53s/it]\n",
      "  0%|          | 0/50 [00:00<?, ?it/s]\n",
      "  2%|▏         | 1/50 [00:02<01:49,  2.23s/it]\n",
      "  4%|▍         | 2/50 [00:04<01:49,  2.28s/it]\n",
      "  6%|▌         | 3/50 [00:06<01:47,  2.30s/it]\n",
      "  8%|▊         | 4/50 [00:09<01:45,  2.29s/it]\n",
      " 10%|█         | 5/50 [00:11<01:43,  2.29s/it]\n",
      " 12%|█▏        | 6/50 [00:13<01:41,  2.32s/it]\n",
      " 14%|█▍        | 7/50 [00:16<01:40,  2.35s/it]\n",
      " 16%|█▌        | 8/50 [00:18<01:37,  2.32s/it]\n",
      " 18%|█▊        | 9/50 [00:20<01:33,  2.29s/it]\n",
      " 20%|██        | 10/50 [00:23<01:30,  2.27s/it]\n",
      " 22%|██▏       | 11/50 [00:25<01:28,  2.26s/it]\n",
      " 24%|██▍       | 12/50 [00:27<01:26,  2.28s/it]\n",
      " 26%|██▌       | 13/50 [00:29<01:24,  2.28s/it]\n",
      " 28%|██▊       | 14/50 [00:32<01:22,  2.28s/it]\n",
      " 30%|███       | 15/50 [00:34<01:20,  2.30s/it]\n",
      " 32%|███▏      | 16/50 [00:36<01:19,  2.34s/it]\n",
      " 34%|███▍      | 17/50 [00:39<01:17,  2.34s/it]\n",
      " 36%|███▌      | 18/50 [00:41<01:14,  2.32s/it]\n",
      " 38%|███▊      | 19/50 [00:43<01:11,  2.31s/it]\n",
      " 40%|████      | 20/50 [00:46<01:08,  2.30s/it]\n",
      " 42%|████▏     | 21/50 [00:48<01:06,  2.31s/it]\n",
      " 44%|████▍     | 22/50 [00:50<01:03,  2.28s/it]\n",
      " 46%|████▌     | 23/50 [00:52<01:01,  2.29s/it]\n",
      " 48%|████▊     | 24/50 [00:55<00:59,  2.27s/it]\n",
      " 50%|█████     | 25/50 [00:57<00:57,  2.28s/it]\n",
      " 52%|█████▏    | 26/50 [00:59<00:54,  2.28s/it]\n",
      " 54%|█████▍    | 27/50 [01:02<00:52,  2.27s/it]\n",
      " 56%|█████▌    | 28/50 [01:04<00:50,  2.29s/it]\n",
      " 58%|█████▊    | 29/50 [01:06<00:48,  2.33s/it]\n",
      " 60%|██████    | 30/50 [01:09<00:46,  2.32s/it]\n",
      " 62%|██████▏   | 31/50 [01:11<00:44,  2.33s/it]\n",
      " 64%|██████▍   | 32/50 [01:13<00:41,  2.29s/it]\n",
      " 66%|██████▌   | 33/50 [01:15<00:38,  2.26s/it]\n",
      " 68%|██████▊   | 34/50 [01:18<00:37,  2.33s/it]\n",
      " 70%|███████   | 35/50 [01:20<00:35,  2.35s/it]\n",
      " 72%|███████▏  | 36/50 [01:22<00:32,  2.32s/it]\n",
      " 74%|███████▍  | 37/50 [01:25<00:29,  2.29s/it]\n",
      " 76%|███████▌  | 38/50 [01:27<00:27,  2.27s/it]\n",
      " 78%|███████▊  | 39/50 [01:29<00:25,  2.29s/it]\n",
      " 80%|████████  | 40/50 [01:32<00:22,  2.29s/it]\n",
      " 82%|████████▏ | 41/50 [01:34<00:20,  2.28s/it]\n",
      " 84%|████████▍ | 42/50 [01:36<00:18,  2.37s/it]\n",
      " 86%|████████▌ | 43/50 [01:39<00:16,  2.36s/it]\n",
      " 88%|████████▊ | 44/50 [01:41<00:13,  2.32s/it]\n",
      " 90%|█████████ | 45/50 [01:43<00:11,  2.30s/it]\n",
      " 92%|█████████▏| 46/50 [01:45<00:09,  2.28s/it]\n",
      " 94%|█████████▍| 47/50 [01:48<00:06,  2.25s/it]\n",
      " 96%|█████████▌| 48/50 [01:50<00:04,  2.25s/it]\n",
      " 98%|█████████▊| 49/50 [01:52<00:02,  2.27s/it]\n",
      "100%|██████████| 50/50 [01:54<00:00,  2.25s/it]INFO PARTICION 2:\n",
      "MEDIA: 0.07722996113838547\n",
      "STD: 0.00763968867789197\n",
      "MEDIANA: 0.07586295772107685\n",
      "MAX: 0.10031474177240547\n",
      "MIN: 0.063562494566455\n",
      "\n",
      "\n",
      "2it [03:50, 115.34s/it]\n",
      "  0%|          | 0/50 [00:00<?, ?it/s]\n",
      "  2%|▏         | 1/50 [00:02<01:52,  2.29s/it]\n",
      "  4%|▍         | 2/50 [00:04<01:48,  2.26s/it]\n",
      "  6%|▌         | 3/50 [00:06<01:45,  2.24s/it]\n",
      "  8%|▊         | 4/50 [00:09<01:44,  2.27s/it]\n",
      " 10%|█         | 5/50 [00:11<01:45,  2.33s/it]\n",
      " 12%|█▏        | 6/50 [00:13<01:43,  2.36s/it]\n",
      " 14%|█▍        | 7/50 [00:16<01:42,  2.37s/it]\n",
      " 16%|█▌        | 8/50 [00:18<01:38,  2.35s/it]\n",
      " 18%|█▊        | 9/50 [00:20<01:35,  2.34s/it]\n",
      " 20%|██        | 10/50 [00:23<01:33,  2.33s/it]\n",
      " 22%|██▏       | 11/50 [00:25<01:29,  2.30s/it]\n",
      " 24%|██▍       | 12/50 [00:27<01:27,  2.29s/it]\n",
      " 26%|██▌       | 13/50 [00:30<01:24,  2.30s/it]\n",
      " 28%|██▊       | 14/50 [00:32<01:23,  2.32s/it]\n",
      " 30%|███       | 15/50 [00:34<01:21,  2.32s/it]\n",
      " 32%|███▏      | 16/50 [00:36<01:17,  2.29s/it]\n",
      " 34%|███▍      | 17/50 [00:39<01:15,  2.30s/it]\n",
      " 36%|███▌      | 18/50 [00:41<01:13,  2.31s/it]\n",
      " 38%|███▊      | 19/50 [00:44<01:12,  2.34s/it]\n",
      " 40%|████      | 20/50 [00:46<01:09,  2.33s/it]\n",
      " 42%|████▏     | 21/50 [00:48<01:06,  2.30s/it]\n",
      " 44%|████▍     | 22/50 [00:50<01:03,  2.27s/it]\n",
      " 46%|████▌     | 23/50 [00:53<01:01,  2.26s/it]\n",
      " 48%|████▊     | 24/50 [00:55<00:58,  2.25s/it]\n",
      " 50%|█████     | 25/50 [00:57<00:56,  2.25s/it]\n",
      " 52%|█████▏    | 26/50 [00:59<00:53,  2.23s/it]\n",
      " 54%|█████▍    | 27/50 [01:01<00:51,  2.22s/it]\n",
      " 56%|█████▌    | 28/50 [01:04<00:49,  2.23s/it]\n",
      " 58%|█████▊    | 29/50 [01:06<00:46,  2.22s/it]\n",
      " 60%|██████    | 30/50 [01:08<00:44,  2.22s/it]\n",
      " 62%|██████▏   | 31/50 [01:10<00:42,  2.25s/it]\n",
      " 64%|██████▍   | 32/50 [01:13<00:41,  2.29s/it]\n",
      " 66%|██████▌   | 33/50 [01:15<00:38,  2.28s/it]\n",
      " 68%|██████▊   | 34/50 [01:17<00:36,  2.27s/it]\n",
      " 70%|███████   | 35/50 [01:19<00:33,  2.25s/it]\n",
      " 72%|███████▏  | 36/50 [01:22<00:31,  2.24s/it]\n",
      " 74%|███████▍  | 37/50 [01:24<00:28,  2.23s/it]\n",
      " 76%|███████▌  | 38/50 [01:26<00:26,  2.24s/it]\n",
      " 78%|███████▊  | 39/50 [01:28<00:24,  2.21s/it]\n",
      " 80%|████████  | 40/50 [01:31<00:22,  2.23s/it]\n",
      " 82%|████████▏ | 41/50 [01:33<00:20,  2.24s/it]\n",
      " 84%|████████▍ | 42/50 [01:35<00:18,  2.27s/it]\n",
      " 86%|████████▌ | 43/50 [01:37<00:15,  2.25s/it]\n",
      " 88%|████████▊ | 44/50 [01:40<00:13,  2.28s/it]\n",
      " 90%|█████████ | 45/50 [01:42<00:11,  2.32s/it]\n",
      " 92%|█████████▏| 46/50 [01:44<00:09,  2.32s/it]\n",
      " 94%|█████████▍| 47/50 [01:47<00:06,  2.28s/it]\n",
      " 96%|█████████▌| 48/50 [01:49<00:04,  2.25s/it]\n",
      " 98%|█████████▊| 49/50 [01:51<00:02,  2.23s/it]\n",
      "100%|██████████| 50/50 [01:53<00:00,  2.22s/it]INFO PARTICION 3:\n",
      "MEDIA: 0.07585711306524448\n",
      "STD: 0.006335567906503977\n",
      "MEDIANA: 0.07578795358162266\n",
      "MAX: 0.08944451267087951\n",
      "MIN: 0.061116112124606076\n",
      "\n",
      "\n",
      "3it [05:44, 114.87s/it]\n",
      "  0%|          | 0/50 [00:00<?, ?it/s]\n",
      "  2%|▏         | 1/50 [00:02<01:51,  2.28s/it]\n",
      "  4%|▍         | 2/50 [00:04<01:48,  2.25s/it]\n",
      "  6%|▌         | 3/50 [00:06<01:45,  2.24s/it]\n",
      "  8%|▊         | 4/50 [00:08<01:42,  2.22s/it]\n",
      " 10%|█         | 5/50 [00:11<01:39,  2.22s/it]\n",
      " 12%|█▏        | 6/50 [00:13<01:38,  2.24s/it]\n",
      " 14%|█▍        | 7/50 [00:15<01:37,  2.27s/it]\n",
      " 16%|█▌        | 8/50 [00:18<01:37,  2.32s/it]\n",
      " 18%|█▊        | 9/50 [00:20<01:35,  2.32s/it]\n",
      " 20%|██        | 10/50 [00:22<01:31,  2.28s/it]\n",
      " 22%|██▏       | 11/50 [00:24<01:28,  2.26s/it]\n",
      " 24%|██▍       | 12/50 [00:27<01:25,  2.25s/it]\n",
      " 26%|██▌       | 13/50 [00:29<01:23,  2.27s/it]\n",
      " 28%|██▊       | 14/50 [00:31<01:22,  2.30s/it]\n",
      " 30%|███       | 15/50 [00:34<01:20,  2.30s/it]\n",
      " 32%|███▏      | 16/50 [00:36<01:18,  2.32s/it]\n",
      " 34%|███▍      | 17/50 [00:38<01:15,  2.29s/it]\n",
      " 36%|███▌      | 18/50 [00:40<01:13,  2.29s/it]\n",
      " 38%|███▊      | 19/50 [00:43<01:10,  2.28s/it]\n",
      " 40%|████      | 20/50 [00:45<01:09,  2.32s/it]\n",
      " 42%|████▏     | 21/50 [00:48<01:08,  2.35s/it]\n",
      " 44%|████▍     | 22/50 [00:50<01:05,  2.35s/it]\n",
      " 46%|████▌     | 23/50 [00:52<01:02,  2.32s/it]\n",
      " 48%|████▊     | 24/50 [00:54<01:00,  2.31s/it]\n",
      " 50%|█████     | 25/50 [00:57<00:57,  2.29s/it]\n",
      " 52%|█████▏    | 26/50 [00:59<00:54,  2.28s/it]\n",
      " 54%|█████▍    | 27/50 [01:01<00:52,  2.26s/it]\n",
      " 56%|█████▌    | 28/50 [01:03<00:49,  2.24s/it]\n",
      " 58%|█████▊    | 29/50 [01:06<00:47,  2.24s/it]\n",
      " 60%|██████    | 30/50 [01:08<00:44,  2.23s/it]\n",
      " 62%|██████▏   | 31/50 [01:10<00:42,  2.23s/it]\n",
      " 64%|██████▍   | 32/50 [01:12<00:40,  2.26s/it]\n",
      " 66%|██████▌   | 33/50 [01:15<00:38,  2.26s/it]\n",
      " 68%|██████▊   | 34/50 [01:17<00:37,  2.31s/it]\n",
      " 70%|███████   | 35/50 [01:19<00:34,  2.32s/it]\n",
      " 72%|███████▏  | 36/50 [01:22<00:31,  2.28s/it]\n",
      " 74%|███████▍  | 37/50 [01:24<00:29,  2.28s/it]\n",
      " 76%|███████▌  | 38/50 [01:26<00:27,  2.28s/it]\n",
      " 78%|███████▊  | 39/50 [01:28<00:24,  2.25s/it]\n",
      " 80%|████████  | 40/50 [01:31<00:22,  2.27s/it]\n",
      " 82%|████████▏ | 41/50 [01:33<00:20,  2.25s/it]\n",
      " 84%|████████▍ | 42/50 [01:35<00:18,  2.28s/it]\n",
      " 86%|████████▌ | 43/50 [01:37<00:15,  2.26s/it]\n",
      " 88%|████████▊ | 44/50 [01:40<00:13,  2.26s/it]\n",
      " 90%|█████████ | 45/50 [01:42<00:11,  2.29s/it]\n",
      " 92%|█████████▏| 46/50 [01:44<00:09,  2.28s/it]\n",
      " 94%|█████████▍| 47/50 [01:47<00:06,  2.31s/it]\n",
      " 96%|█████████▌| 48/50 [01:49<00:04,  2.35s/it]\n",
      " 98%|█████████▊| 49/50 [01:51<00:02,  2.33s/it]\n",
      "100%|██████████| 50/50 [01:54<00:00,  2.32s/it]INFO PARTICION 4:\n",
      "MEDIA: 0.07620543679708003\n",
      "STD: 0.008420336417756257\n",
      "MEDIANA: 0.07573862272668513\n",
      "MAX: 0.10259250966730107\n",
      "MIN: 0.062181153681292435\n",
      "\n",
      "\n",
      "4it [07:38, 114.67s/it]\n",
      "  0%|          | 0/50 [00:00<?, ?it/s]\n",
      "  2%|▏         | 1/50 [00:02<01:51,  2.28s/it]\n",
      "  4%|▍         | 2/50 [00:04<01:48,  2.26s/it]\n",
      "  6%|▌         | 3/50 [00:06<01:48,  2.30s/it]\n",
      "  8%|▊         | 4/50 [00:09<01:46,  2.31s/it]\n",
      " 10%|█         | 5/50 [00:11<01:45,  2.35s/it]\n",
      " 12%|█▏        | 6/50 [00:14<01:44,  2.38s/it]\n",
      " 14%|█▍        | 7/50 [00:16<01:40,  2.35s/it]\n",
      " 16%|█▌        | 8/50 [00:18<01:37,  2.31s/it]\n",
      " 18%|█▊        | 9/50 [00:21<01:35,  2.33s/it]\n",
      " 20%|██        | 10/50 [00:23<01:35,  2.38s/it]\n",
      " 22%|██▏       | 11/50 [00:25<01:32,  2.37s/it]\n",
      " 24%|██▍       | 12/50 [00:28<01:29,  2.35s/it]\n",
      " 26%|██▌       | 13/50 [00:30<01:29,  2.41s/it]\n",
      " 28%|██▊       | 14/50 [00:33<01:26,  2.39s/it]\n",
      " 30%|███       | 15/50 [00:35<01:23,  2.39s/it]\n",
      " 32%|███▏      | 16/50 [00:37<01:20,  2.36s/it]\n",
      " 34%|███▍      | 17/50 [00:40<01:17,  2.35s/it]\n",
      " 36%|███▌      | 18/50 [00:42<01:14,  2.33s/it]\n",
      " 38%|███▊      | 19/50 [00:44<01:11,  2.32s/it]\n",
      " 40%|████      | 20/50 [00:46<01:09,  2.31s/it]\n",
      " 42%|████▏     | 21/50 [00:49<01:07,  2.32s/it]\n",
      " 44%|████▍     | 22/50 [00:51<01:04,  2.32s/it]\n",
      " 46%|████▌     | 23/50 [00:53<01:03,  2.35s/it]\n",
      " 48%|████▊     | 24/50 [00:56<01:01,  2.36s/it]\n",
      " 50%|█████     | 25/50 [00:58<00:58,  2.34s/it]\n",
      " 52%|█████▏    | 26/50 [01:00<00:55,  2.31s/it]\n",
      " 54%|█████▍    | 27/50 [01:03<00:52,  2.29s/it]\n",
      " 56%|█████▌    | 28/50 [01:05<00:49,  2.26s/it]\n",
      " 58%|█████▊    | 29/50 [01:07<00:47,  2.26s/it]\n",
      " 60%|██████    | 30/50 [01:09<00:44,  2.24s/it]\n",
      " 62%|██████▏   | 31/50 [01:12<00:42,  2.25s/it]\n",
      " 64%|██████▍   | 32/50 [01:14<00:40,  2.23s/it]\n",
      " 66%|██████▌   | 33/50 [01:16<00:37,  2.23s/it]\n",
      " 68%|██████▊   | 34/50 [01:18<00:36,  2.26s/it]\n",
      " 70%|███████   | 35/50 [01:21<00:35,  2.34s/it]\n",
      " 72%|███████▏  | 36/50 [01:23<00:32,  2.35s/it]\n",
      " 74%|███████▍  | 37/50 [01:26<00:30,  2.35s/it]\n",
      " 76%|███████▌  | 38/50 [01:28<00:27,  2.33s/it]\n",
      " 78%|███████▊  | 39/50 [01:30<00:25,  2.30s/it]\n",
      " 80%|████████  | 40/50 [01:32<00:22,  2.30s/it]\n",
      " 82%|████████▏ | 41/50 [01:35<00:20,  2.29s/it]\n",
      " 84%|████████▍ | 42/50 [01:37<00:18,  2.30s/it]\n",
      " 86%|████████▌ | 43/50 [01:39<00:16,  2.29s/it]\n",
      " 88%|████████▊ | 44/50 [01:42<00:13,  2.30s/it]\n",
      " 90%|█████████ | 45/50 [01:44<00:11,  2.28s/it]\n",
      " 92%|█████████▏| 46/50 [01:46<00:09,  2.31s/it]\n",
      " 94%|█████████▍| 47/50 [01:48<00:06,  2.29s/it]\n",
      " 96%|█████████▌| 48/50 [01:51<00:04,  2.31s/it]\n",
      " 98%|█████████▊| 49/50 [01:53<00:02,  2.37s/it]\n",
      "100%|██████████| 50/50 [01:56<00:00,  2.42s/it]INFO PARTICION 5:\n",
      "MEDIA: 0.07905836039332247\n",
      "STD: 0.00822904093094466\n",
      "MEDIANA: 0.07785716305613968\n",
      "MAX: 0.10239815830798778\n",
      "MIN: 0.0635521725793035\n",
      "\n",
      "\n",
      "5it [09:34, 115.16s/it]\n"
     ]
    }
   ],
   "source": [
    "mejores_fitnesses = []\n",
    "v_part_fitness = []\n",
    "part_alfa = []\n",
    "part_beta = []\n",
    "part_gamma = []\n",
    "\n",
    "#Usar particiones de entrenamiento\n",
    "print(\"ENTRENAMIENTO....\")\n",
    "for j, part in tqdm(enumerate(parts_train)):\n",
    "    # Definimos la funcion de fitness a utilizar (depende de algunos datos cargados)\n",
    "    def f_fitness(vars):\n",
    "        alfa = vars[0]\n",
    "        beta = vars[1]\n",
    "        gamma = vars[2]\n",
    "\n",
    "        v_apts = np.zeros(n)\n",
    "        scheds = np.random.choice(part, size=n)\n",
    "\n",
    "        for i, s in enumerate(scheds):\n",
    "            l = lens[s]\n",
    "            if m_t[s,l-1] < interrev:\n",
    "                continue\n",
    "\n",
    "            sm2 = SM2(alfa, beta, gamma)\n",
    "            v_apts[i] = fitness(s, m_t[s,:l], m_acum_cs[s, -1], m_acum_ss[s, -1], srs=sm2)\n",
    "            \n",
    "        return np.average(v_apts)\n",
    "        \n",
    "    # Definimos parametros a usar en el evolutivo\n",
    "    evolutivo_kwargs = {\n",
    "                    'N'                : 30,\n",
    "                    'v_var'            : var_bits,\n",
    "                    'probCrossOver'    : 0.9,\n",
    "                    'probMutation'     : 0.2,\n",
    "                    'f_deco'           : DecoDecimal,\n",
    "                    'f_fitness'        : f_fitness,\n",
    "                    'maxGens'          : 50,\n",
    "                    'debugLvl'         : 90,\n",
    "    }\n",
    "\n",
    "    #Evolucionamos\n",
    "    ga = GA(**evolutivo_kwargs)\n",
    "    ga.Evolve(elitismo=True, brecha=.4)\n",
    "        \n",
    "    # Guardamos datos\n",
    "    bestAgent = DecoDecimal(ga.bestAgent)\n",
    "    part_alfa.append(bestAgent[0])\n",
    "    part_beta.append(bestAgent[1])\n",
    "    part_gamma.append(bestAgent[2])\n",
    "    mejores_fitnesses.append(ga.bestFitness)\n",
    "    v_part_fitness.append(ga.v_bestFitness)\n",
    "\n",
    "    print(f\"INFO PARTICION {j+1}:\")\n",
    "    print(f\"MEDIA: {np.mean(ga.v_bestFitness)}\")\n",
    "    print(f\"STD: {np.std(ga.v_bestFitness)}\")\n",
    "    print(f\"MEDIANA: {np.median(ga.v_bestFitness)}\")\n",
    "    print(f\"MAX: {np.max(ga.v_bestFitness)}\")\n",
    "    print(f\"MIN: {np.min(ga.v_bestFitness)}\\n\\n\")"
   ]
  },
  {
   "cell_type": "code",
   "execution_count": 9,
   "metadata": {},
   "outputs": [
    {
     "output_type": "execute_result",
     "data": {
      "text/plain": [
       "[0.1064187258017406,\n",
       " 0.10031474177240547,\n",
       " 0.08944451267087951,\n",
       " 0.10259250966730107,\n",
       " 0.10239815830798778]"
      ]
     },
     "metadata": {},
     "execution_count": 9
    }
   ],
   "source": [
    "#Mejores fitness de cada particon en el entrenamiento\n",
    "mejores_fitnesses"
   ]
  },
  {
   "cell_type": "code",
   "execution_count": 26,
   "metadata": {},
   "outputs": [
    {
     "output_type": "stream",
     "name": "stderr",
     "text": [
      "5it [00:05,  1.15s/it]\n"
     ]
    }
   ],
   "source": [
    "#Particiones de testeo\n",
    "part_apts = []\n",
    "part_apts_mean = []\n",
    "part_apts_std = []\n",
    "part_best_apts = []\n",
    "\n",
    "for j, part in tqdm(enumerate(parts_test)):\n",
    "\n",
    "    v_apts = np.zeros(len(part))\n",
    "    scheds = np.random.choice(part, size=len(part))\n",
    "\n",
    "    for i, s in enumerate(scheds):\n",
    "        l = lens[s]\n",
    "        if m_t[s,l-1] < interrev:\n",
    "            continue\n",
    "\n",
    "        sm2 = SM2(part_alfa[j], part_beta[j], part_gamma[j])\n",
    "        v_apts[i] = fitness(s, m_t[s,:l], m_acum_cs[s, -1], m_acum_ss[s, -1], srs=sm2)\n",
    "                \n",
    "    part_best_apts.append(np.max(v_apts))            \n",
    "    part_apts.append(v_apts)\n",
    "    part_apts_mean.append(np.mean(v_apts))\n",
    "    part_apts_std.append(np.std(v_apts))"
   ]
  },
  {
   "source": [
    "#Box plot de los mejores fitness del entrenamiento (de cada particion)\n",
    "import matplotlib.pyplot as plt\n",
    "plt.boxplot(mejores_fitnesses)\n",
    "plt.show()"
   ],
   "cell_type": "code",
   "metadata": {},
   "execution_count": 12,
   "outputs": [
    {
     "output_type": "display_data",
     "data": {
      "text/plain": "<Figure size 432x288 with 1 Axes>",
      "image/svg+xml": "<?xml version=\"1.0\" encoding=\"utf-8\" standalone=\"no\"?>\r\n<!DOCTYPE svg PUBLIC \"-//W3C//DTD SVG 1.1//EN\"\r\n  \"http://www.w3.org/Graphics/SVG/1.1/DTD/svg11.dtd\">\r\n<!-- Created with matplotlib (https://matplotlib.org/) -->\r\n<svg height=\"248.518125pt\" version=\"1.1\" viewBox=\"0 0 391.190625 248.518125\" width=\"391.190625pt\" xmlns=\"http://www.w3.org/2000/svg\" xmlns:xlink=\"http://www.w3.org/1999/xlink\">\r\n <defs>\r\n  <style type=\"text/css\">\r\n*{stroke-linecap:butt;stroke-linejoin:round;white-space:pre;}\r\n  </style>\r\n </defs>\r\n <g id=\"figure_1\">\r\n  <g id=\"patch_1\">\r\n   <path d=\"M 0 248.518125 \r\nL 391.190625 248.518125 \r\nL 391.190625 0 \r\nL 0 0 \r\nz\r\n\" style=\"fill:none;\"/>\r\n  </g>\r\n  <g id=\"axes_1\">\r\n   <g id=\"patch_2\">\r\n    <path d=\"M 49.190625 224.64 \r\nL 383.990625 224.64 \r\nL 383.990625 7.2 \r\nL 49.190625 7.2 \r\nz\r\n\" style=\"fill:#ffffff;\"/>\r\n   </g>\r\n   <g id=\"matplotlib.axis_1\">\r\n    <g id=\"xtick_1\">\r\n     <g id=\"line2d_1\">\r\n      <defs>\r\n       <path d=\"M 0 0 \r\nL 0 3.5 \r\n\" id=\"m6e87cbd224\" style=\"stroke:#000000;stroke-width:0.8;\"/>\r\n      </defs>\r\n      <g>\r\n       <use style=\"stroke:#000000;stroke-width:0.8;\" x=\"216.590625\" xlink:href=\"#m6e87cbd224\" y=\"224.64\"/>\r\n      </g>\r\n     </g>\r\n     <g id=\"text_1\">\r\n      <!-- 1 -->\r\n      <defs>\r\n       <path d=\"M 12.40625 8.296875 \r\nL 28.515625 8.296875 \r\nL 28.515625 63.921875 \r\nL 10.984375 60.40625 \r\nL 10.984375 69.390625 \r\nL 28.421875 72.90625 \r\nL 38.28125 72.90625 \r\nL 38.28125 8.296875 \r\nL 54.390625 8.296875 \r\nL 54.390625 0 \r\nL 12.40625 0 \r\nz\r\n\" id=\"DejaVuSans-49\"/>\r\n      </defs>\r\n      <g transform=\"translate(213.409375 239.238438)scale(0.1 -0.1)\">\r\n       <use xlink:href=\"#DejaVuSans-49\"/>\r\n      </g>\r\n     </g>\r\n    </g>\r\n   </g>\r\n   <g id=\"matplotlib.axis_2\">\r\n    <g id=\"ytick_1\">\r\n     <g id=\"line2d_2\">\r\n      <defs>\r\n       <path d=\"M 0 0 \r\nL -3.5 0 \r\n\" id=\"mc6058a02b7\" style=\"stroke:#000000;stroke-width:0.8;\"/>\r\n      </defs>\r\n      <g>\r\n       <use style=\"stroke:#000000;stroke-width:0.8;\" x=\"49.190625\" xlink:href=\"#mc6058a02b7\" y=\"208.287451\"/>\r\n      </g>\r\n     </g>\r\n     <g id=\"text_2\">\r\n      <!-- 0.0900 -->\r\n      <defs>\r\n       <path d=\"M 31.78125 66.40625 \r\nQ 24.171875 66.40625 20.328125 58.90625 \r\nQ 16.5 51.421875 16.5 36.375 \r\nQ 16.5 21.390625 20.328125 13.890625 \r\nQ 24.171875 6.390625 31.78125 6.390625 \r\nQ 39.453125 6.390625 43.28125 13.890625 \r\nQ 47.125 21.390625 47.125 36.375 \r\nQ 47.125 51.421875 43.28125 58.90625 \r\nQ 39.453125 66.40625 31.78125 66.40625 \r\nz\r\nM 31.78125 74.21875 \r\nQ 44.046875 74.21875 50.515625 64.515625 \r\nQ 56.984375 54.828125 56.984375 36.375 \r\nQ 56.984375 17.96875 50.515625 8.265625 \r\nQ 44.046875 -1.421875 31.78125 -1.421875 \r\nQ 19.53125 -1.421875 13.0625 8.265625 \r\nQ 6.59375 17.96875 6.59375 36.375 \r\nQ 6.59375 54.828125 13.0625 64.515625 \r\nQ 19.53125 74.21875 31.78125 74.21875 \r\nz\r\n\" id=\"DejaVuSans-48\"/>\r\n       <path d=\"M 10.6875 12.40625 \r\nL 21 12.40625 \r\nL 21 0 \r\nL 10.6875 0 \r\nz\r\n\" id=\"DejaVuSans-46\"/>\r\n       <path d=\"M 10.984375 1.515625 \r\nL 10.984375 10.5 \r\nQ 14.703125 8.734375 18.5 7.8125 \r\nQ 22.3125 6.890625 25.984375 6.890625 \r\nQ 35.75 6.890625 40.890625 13.453125 \r\nQ 46.046875 20.015625 46.78125 33.40625 \r\nQ 43.953125 29.203125 39.59375 26.953125 \r\nQ 35.25 24.703125 29.984375 24.703125 \r\nQ 19.046875 24.703125 12.671875 31.3125 \r\nQ 6.296875 37.9375 6.296875 49.421875 \r\nQ 6.296875 60.640625 12.9375 67.421875 \r\nQ 19.578125 74.21875 30.609375 74.21875 \r\nQ 43.265625 74.21875 49.921875 64.515625 \r\nQ 56.59375 54.828125 56.59375 36.375 \r\nQ 56.59375 19.140625 48.40625 8.859375 \r\nQ 40.234375 -1.421875 26.421875 -1.421875 \r\nQ 22.703125 -1.421875 18.890625 -0.6875 \r\nQ 15.09375 0.046875 10.984375 1.515625 \r\nz\r\nM 30.609375 32.421875 \r\nQ 37.25 32.421875 41.125 36.953125 \r\nQ 45.015625 41.5 45.015625 49.421875 \r\nQ 45.015625 57.28125 41.125 61.84375 \r\nQ 37.25 66.40625 30.609375 66.40625 \r\nQ 23.96875 66.40625 20.09375 61.84375 \r\nQ 16.21875 57.28125 16.21875 49.421875 \r\nQ 16.21875 41.5 20.09375 36.953125 \r\nQ 23.96875 32.421875 30.609375 32.421875 \r\nz\r\n\" id=\"DejaVuSans-57\"/>\r\n      </defs>\r\n      <g transform=\"translate(7.2 212.08667)scale(0.1 -0.1)\">\r\n       <use xlink:href=\"#DejaVuSans-48\"/>\r\n       <use x=\"63.623047\" xlink:href=\"#DejaVuSans-46\"/>\r\n       <use x=\"95.410156\" xlink:href=\"#DejaVuSans-48\"/>\r\n       <use x=\"159.033203\" xlink:href=\"#DejaVuSans-57\"/>\r\n       <use x=\"222.65625\" xlink:href=\"#DejaVuSans-48\"/>\r\n       <use x=\"286.279297\" xlink:href=\"#DejaVuSans-48\"/>\r\n      </g>\r\n     </g>\r\n    </g>\r\n    <g id=\"ytick_2\">\r\n     <g id=\"line2d_3\">\r\n      <g>\r\n       <use style=\"stroke:#000000;stroke-width:0.8;\" x=\"49.190625\" xlink:href=\"#mc6058a02b7\" y=\"179.173771\"/>\r\n      </g>\r\n     </g>\r\n     <g id=\"text_3\">\r\n      <!-- 0.0925 -->\r\n      <defs>\r\n       <path d=\"M 19.1875 8.296875 \r\nL 53.609375 8.296875 \r\nL 53.609375 0 \r\nL 7.328125 0 \r\nL 7.328125 8.296875 \r\nQ 12.9375 14.109375 22.625 23.890625 \r\nQ 32.328125 33.6875 34.8125 36.53125 \r\nQ 39.546875 41.84375 41.421875 45.53125 \r\nQ 43.3125 49.21875 43.3125 52.78125 \r\nQ 43.3125 58.59375 39.234375 62.25 \r\nQ 35.15625 65.921875 28.609375 65.921875 \r\nQ 23.96875 65.921875 18.8125 64.3125 \r\nQ 13.671875 62.703125 7.8125 59.421875 \r\nL 7.8125 69.390625 \r\nQ 13.765625 71.78125 18.9375 73 \r\nQ 24.125 74.21875 28.421875 74.21875 \r\nQ 39.75 74.21875 46.484375 68.546875 \r\nQ 53.21875 62.890625 53.21875 53.421875 \r\nQ 53.21875 48.921875 51.53125 44.890625 \r\nQ 49.859375 40.875 45.40625 35.40625 \r\nQ 44.1875 33.984375 37.640625 27.21875 \r\nQ 31.109375 20.453125 19.1875 8.296875 \r\nz\r\n\" id=\"DejaVuSans-50\"/>\r\n       <path d=\"M 10.796875 72.90625 \r\nL 49.515625 72.90625 \r\nL 49.515625 64.59375 \r\nL 19.828125 64.59375 \r\nL 19.828125 46.734375 \r\nQ 21.96875 47.46875 24.109375 47.828125 \r\nQ 26.265625 48.1875 28.421875 48.1875 \r\nQ 40.625 48.1875 47.75 41.5 \r\nQ 54.890625 34.8125 54.890625 23.390625 \r\nQ 54.890625 11.625 47.5625 5.09375 \r\nQ 40.234375 -1.421875 26.90625 -1.421875 \r\nQ 22.3125 -1.421875 17.546875 -0.640625 \r\nQ 12.796875 0.140625 7.71875 1.703125 \r\nL 7.71875 11.625 \r\nQ 12.109375 9.234375 16.796875 8.0625 \r\nQ 21.484375 6.890625 26.703125 6.890625 \r\nQ 35.15625 6.890625 40.078125 11.328125 \r\nQ 45.015625 15.765625 45.015625 23.390625 \r\nQ 45.015625 31 40.078125 35.4375 \r\nQ 35.15625 39.890625 26.703125 39.890625 \r\nQ 22.75 39.890625 18.8125 39.015625 \r\nQ 14.890625 38.140625 10.796875 36.28125 \r\nz\r\n\" id=\"DejaVuSans-53\"/>\r\n      </defs>\r\n      <g transform=\"translate(7.2 182.97299)scale(0.1 -0.1)\">\r\n       <use xlink:href=\"#DejaVuSans-48\"/>\r\n       <use x=\"63.623047\" xlink:href=\"#DejaVuSans-46\"/>\r\n       <use x=\"95.410156\" xlink:href=\"#DejaVuSans-48\"/>\r\n       <use x=\"159.033203\" xlink:href=\"#DejaVuSans-57\"/>\r\n       <use x=\"222.65625\" xlink:href=\"#DejaVuSans-50\"/>\r\n       <use x=\"286.279297\" xlink:href=\"#DejaVuSans-53\"/>\r\n      </g>\r\n     </g>\r\n    </g>\r\n    <g id=\"ytick_3\">\r\n     <g id=\"line2d_4\">\r\n      <g>\r\n       <use style=\"stroke:#000000;stroke-width:0.8;\" x=\"49.190625\" xlink:href=\"#mc6058a02b7\" y=\"150.06009\"/>\r\n      </g>\r\n     </g>\r\n     <g id=\"text_4\">\r\n      <!-- 0.0950 -->\r\n      <g transform=\"translate(7.2 153.859309)scale(0.1 -0.1)\">\r\n       <use xlink:href=\"#DejaVuSans-48\"/>\r\n       <use x=\"63.623047\" xlink:href=\"#DejaVuSans-46\"/>\r\n       <use x=\"95.410156\" xlink:href=\"#DejaVuSans-48\"/>\r\n       <use x=\"159.033203\" xlink:href=\"#DejaVuSans-57\"/>\r\n       <use x=\"222.65625\" xlink:href=\"#DejaVuSans-53\"/>\r\n       <use x=\"286.279297\" xlink:href=\"#DejaVuSans-48\"/>\r\n      </g>\r\n     </g>\r\n    </g>\r\n    <g id=\"ytick_4\">\r\n     <g id=\"line2d_5\">\r\n      <g>\r\n       <use style=\"stroke:#000000;stroke-width:0.8;\" x=\"49.190625\" xlink:href=\"#mc6058a02b7\" y=\"120.94641\"/>\r\n      </g>\r\n     </g>\r\n     <g id=\"text_5\">\r\n      <!-- 0.0975 -->\r\n      <defs>\r\n       <path d=\"M 8.203125 72.90625 \r\nL 55.078125 72.90625 \r\nL 55.078125 68.703125 \r\nL 28.609375 0 \r\nL 18.3125 0 \r\nL 43.21875 64.59375 \r\nL 8.203125 64.59375 \r\nz\r\n\" id=\"DejaVuSans-55\"/>\r\n      </defs>\r\n      <g transform=\"translate(7.2 124.745629)scale(0.1 -0.1)\">\r\n       <use xlink:href=\"#DejaVuSans-48\"/>\r\n       <use x=\"63.623047\" xlink:href=\"#DejaVuSans-46\"/>\r\n       <use x=\"95.410156\" xlink:href=\"#DejaVuSans-48\"/>\r\n       <use x=\"159.033203\" xlink:href=\"#DejaVuSans-57\"/>\r\n       <use x=\"222.65625\" xlink:href=\"#DejaVuSans-55\"/>\r\n       <use x=\"286.279297\" xlink:href=\"#DejaVuSans-53\"/>\r\n      </g>\r\n     </g>\r\n    </g>\r\n    <g id=\"ytick_5\">\r\n     <g id=\"line2d_6\">\r\n      <g>\r\n       <use style=\"stroke:#000000;stroke-width:0.8;\" x=\"49.190625\" xlink:href=\"#mc6058a02b7\" y=\"91.832729\"/>\r\n      </g>\r\n     </g>\r\n     <g id=\"text_6\">\r\n      <!-- 0.1000 -->\r\n      <g transform=\"translate(7.2 95.631948)scale(0.1 -0.1)\">\r\n       <use xlink:href=\"#DejaVuSans-48\"/>\r\n       <use x=\"63.623047\" xlink:href=\"#DejaVuSans-46\"/>\r\n       <use x=\"95.410156\" xlink:href=\"#DejaVuSans-49\"/>\r\n       <use x=\"159.033203\" xlink:href=\"#DejaVuSans-48\"/>\r\n       <use x=\"222.65625\" xlink:href=\"#DejaVuSans-48\"/>\r\n       <use x=\"286.279297\" xlink:href=\"#DejaVuSans-48\"/>\r\n      </g>\r\n     </g>\r\n    </g>\r\n    <g id=\"ytick_6\">\r\n     <g id=\"line2d_7\">\r\n      <g>\r\n       <use style=\"stroke:#000000;stroke-width:0.8;\" x=\"49.190625\" xlink:href=\"#mc6058a02b7\" y=\"62.719049\"/>\r\n      </g>\r\n     </g>\r\n     <g id=\"text_7\">\r\n      <!-- 0.1025 -->\r\n      <g transform=\"translate(7.2 66.518268)scale(0.1 -0.1)\">\r\n       <use xlink:href=\"#DejaVuSans-48\"/>\r\n       <use x=\"63.623047\" xlink:href=\"#DejaVuSans-46\"/>\r\n       <use x=\"95.410156\" xlink:href=\"#DejaVuSans-49\"/>\r\n       <use x=\"159.033203\" xlink:href=\"#DejaVuSans-48\"/>\r\n       <use x=\"222.65625\" xlink:href=\"#DejaVuSans-50\"/>\r\n       <use x=\"286.279297\" xlink:href=\"#DejaVuSans-53\"/>\r\n      </g>\r\n     </g>\r\n    </g>\r\n    <g id=\"ytick_7\">\r\n     <g id=\"line2d_8\">\r\n      <g>\r\n       <use style=\"stroke:#000000;stroke-width:0.8;\" x=\"49.190625\" xlink:href=\"#mc6058a02b7\" y=\"33.605368\"/>\r\n      </g>\r\n     </g>\r\n     <g id=\"text_8\">\r\n      <!-- 0.1050 -->\r\n      <g transform=\"translate(7.2 37.404587)scale(0.1 -0.1)\">\r\n       <use xlink:href=\"#DejaVuSans-48\"/>\r\n       <use x=\"63.623047\" xlink:href=\"#DejaVuSans-46\"/>\r\n       <use x=\"95.410156\" xlink:href=\"#DejaVuSans-49\"/>\r\n       <use x=\"159.033203\" xlink:href=\"#DejaVuSans-48\"/>\r\n       <use x=\"222.65625\" xlink:href=\"#DejaVuSans-53\"/>\r\n       <use x=\"286.279297\" xlink:href=\"#DejaVuSans-48\"/>\r\n      </g>\r\n     </g>\r\n    </g>\r\n   </g>\r\n   <g id=\"line2d_9\">\r\n    <path clip-path=\"url(#p9b8dba123e)\" d=\"M 191.480625 88.167413 \r\nL 241.700625 88.167413 \r\nL 241.700625 61.64173 \r\nL 191.480625 61.64173 \r\nL 191.480625 88.167413 \r\n\" style=\"fill:none;stroke:#000000;stroke-linecap:square;\"/>\r\n   </g>\r\n   <g id=\"line2d_10\">\r\n    <path clip-path=\"url(#p9b8dba123e)\" d=\"M 216.590625 88.167413 \r\nL 216.590625 88.167413 \r\n\" style=\"fill:none;stroke:#000000;stroke-linecap:square;\"/>\r\n   </g>\r\n   <g id=\"line2d_11\">\r\n    <path clip-path=\"url(#p9b8dba123e)\" d=\"M 216.590625 61.64173 \r\nL 216.590625 61.64173 \r\n\" style=\"fill:none;stroke:#000000;stroke-linecap:square;\"/>\r\n   </g>\r\n   <g id=\"line2d_12\">\r\n    <path clip-path=\"url(#p9b8dba123e)\" d=\"M 204.035625 88.167413 \r\nL 229.145625 88.167413 \r\n\" style=\"fill:none;stroke:#000000;stroke-linecap:square;\"/>\r\n   </g>\r\n   <g id=\"line2d_13\">\r\n    <path clip-path=\"url(#p9b8dba123e)\" d=\"M 204.035625 61.64173 \r\nL 229.145625 61.64173 \r\n\" style=\"fill:none;stroke:#000000;stroke-linecap:square;\"/>\r\n   </g>\r\n   <g id=\"line2d_14\">\r\n    <defs>\r\n     <path d=\"M 0 3 \r\nC 0.795609 3 1.55874 2.683901 2.12132 2.12132 \r\nC 2.683901 1.55874 3 0.795609 3 0 \r\nC 3 -0.795609 2.683901 -1.55874 2.12132 -2.12132 \r\nC 1.55874 -2.683901 0.795609 -3 0 -3 \r\nC -0.795609 -3 -1.55874 -2.683901 -2.12132 -2.12132 \r\nC -2.683901 -1.55874 -3 -0.795609 -3 0 \r\nC -3 0.795609 -2.683901 1.55874 -2.12132 2.12132 \r\nC -1.55874 2.683901 -0.795609 3 0 3 \r\nz\r\n\" id=\"mdc97de1b44\" style=\"stroke:#000000;\"/>\r\n    </defs>\r\n    <g clip-path=\"url(#p9b8dba123e)\">\r\n     <use style=\"fill-opacity:0;stroke:#000000;\" x=\"216.590625\" xlink:href=\"#mdc97de1b44\" y=\"214.756364\"/>\r\n     <use style=\"fill-opacity:0;stroke:#000000;\" x=\"216.590625\" xlink:href=\"#mdc97de1b44\" y=\"17.083636\"/>\r\n    </g>\r\n   </g>\r\n   <g id=\"line2d_15\">\r\n    <path clip-path=\"url(#p9b8dba123e)\" d=\"M 191.480625 63.905043 \r\nL 241.700625 63.905043 \r\n\" style=\"fill:none;stroke:#ff7f0e;stroke-linecap:square;\"/>\r\n   </g>\r\n   <g id=\"patch_3\">\r\n    <path d=\"M 49.190625 224.64 \r\nL 49.190625 7.2 \r\n\" style=\"fill:none;stroke:#000000;stroke-linecap:square;stroke-linejoin:miter;stroke-width:0.8;\"/>\r\n   </g>\r\n   <g id=\"patch_4\">\r\n    <path d=\"M 383.990625 224.64 \r\nL 383.990625 7.2 \r\n\" style=\"fill:none;stroke:#000000;stroke-linecap:square;stroke-linejoin:miter;stroke-width:0.8;\"/>\r\n   </g>\r\n   <g id=\"patch_5\">\r\n    <path d=\"M 49.190625 224.64 \r\nL 383.990625 224.64 \r\n\" style=\"fill:none;stroke:#000000;stroke-linecap:square;stroke-linejoin:miter;stroke-width:0.8;\"/>\r\n   </g>\r\n   <g id=\"patch_6\">\r\n    <path d=\"M 49.190625 7.2 \r\nL 383.990625 7.2 \r\n\" style=\"fill:none;stroke:#000000;stroke-linecap:square;stroke-linejoin:miter;stroke-width:0.8;\"/>\r\n   </g>\r\n  </g>\r\n </g>\r\n <defs>\r\n  <clipPath id=\"p9b8dba123e\">\r\n   <rect height=\"217.44\" width=\"334.8\" x=\"49.190625\" y=\"7.2\"/>\r\n  </clipPath>\r\n </defs>\r\n</svg>\r\n",
      "image/png": "[encoded data removed]"
     },
     "metadata": {
      "needs_background": "light"
     }
    }
   ]
  },
  {
   "cell_type": "code",
   "execution_count": 27,
   "metadata": {},
   "outputs": [
    {
     "output_type": "execute_result",
     "data": {
      "text/plain": [
       "[0.054101032799191574,\n",
       " 0.047460847676040675,\n",
       " 0.04865683970428134,\n",
       " 0.04500257487342316,\n",
       " 0.053323383375346776]"
      ]
     },
     "metadata": {},
     "execution_count": 27
    }
   ],
   "source": [
    "#Media de fitness de cada particion en el testeo\n",
    "part_apts_mean"
   ]
  },
  {
   "cell_type": "code",
   "execution_count": 28,
   "metadata": {},
   "outputs": [
    {
     "output_type": "stream",
     "name": "stdout",
     "text": [
      "MEDIA: 0.04970893568565671\n",
      "STD: 0.0034832567204890422\n",
      "MEDIANA: 0.04865683970428134\n"
     ]
    }
   ],
   "source": [
    "#Validacion cruzada\n",
    "print(f\"MEDIA: {np.mean(part_apts_mean)}\")\n",
    "print(f\"STD: {np.std(part_apts_mean)}\")\n",
    "print(f\"MEDIANA: {np.median(part_apts_mean)}\")"
   ]
  },
  {
   "cell_type": "code",
   "execution_count": 15,
   "metadata": {},
   "outputs": [
    {
     "output_type": "display_data",
     "data": {
      "text/plain": "<Figure size 432x288 with 1 Axes>",
      "image/svg+xml": "<?xml version=\"1.0\" encoding=\"utf-8\" standalone=\"no\"?>\r\n<!DOCTYPE svg PUBLIC \"-//W3C//DTD SVG 1.1//EN\"\r\n  \"http://www.w3.org/Graphics/SVG/1.1/DTD/svg11.dtd\">\r\n<!-- Created with matplotlib (https://matplotlib.org/) -->\r\n<svg height=\"248.518125pt\" version=\"1.1\" viewBox=\"0 0 384.828125 248.518125\" width=\"384.828125pt\" xmlns=\"http://www.w3.org/2000/svg\" xmlns:xlink=\"http://www.w3.org/1999/xlink\">\r\n <defs>\r\n  <style type=\"text/css\">\r\n*{stroke-linecap:butt;stroke-linejoin:round;white-space:pre;}\r\n  </style>\r\n </defs>\r\n <g id=\"figure_1\">\r\n  <g id=\"patch_1\">\r\n   <path d=\"M 0 248.518125 \r\nL 384.828125 248.518125 \r\nL 384.828125 0 \r\nL 0 0 \r\nz\r\n\" style=\"fill:none;\"/>\r\n  </g>\r\n  <g id=\"axes_1\">\r\n   <g id=\"patch_2\">\r\n    <path d=\"M 42.828125 224.64 \r\nL 377.628125 224.64 \r\nL 377.628125 7.2 \r\nL 42.828125 7.2 \r\nz\r\n\" style=\"fill:#ffffff;\"/>\r\n   </g>\r\n   <g id=\"matplotlib.axis_1\">\r\n    <g id=\"xtick_1\">\r\n     <g id=\"line2d_1\">\r\n      <defs>\r\n       <path d=\"M 0 0 \r\nL 0 3.5 \r\n\" id=\"m1d0c17061b\" style=\"stroke:#000000;stroke-width:0.8;\"/>\r\n      </defs>\r\n      <g>\r\n       <use style=\"stroke:#000000;stroke-width:0.8;\" x=\"210.228125\" xlink:href=\"#m1d0c17061b\" y=\"224.64\"/>\r\n      </g>\r\n     </g>\r\n     <g id=\"text_1\">\r\n      <!-- 1 -->\r\n      <defs>\r\n       <path d=\"M 12.40625 8.296875 \r\nL 28.515625 8.296875 \r\nL 28.515625 63.921875 \r\nL 10.984375 60.40625 \r\nL 10.984375 69.390625 \r\nL 28.421875 72.90625 \r\nL 38.28125 72.90625 \r\nL 38.28125 8.296875 \r\nL 54.390625 8.296875 \r\nL 54.390625 0 \r\nL 12.40625 0 \r\nz\r\n\" id=\"DejaVuSans-49\"/>\r\n      </defs>\r\n      <g transform=\"translate(207.046875 239.238438)scale(0.1 -0.1)\">\r\n       <use xlink:href=\"#DejaVuSans-49\"/>\r\n      </g>\r\n     </g>\r\n    </g>\r\n   </g>\r\n   <g id=\"matplotlib.axis_2\">\r\n    <g id=\"ytick_1\">\r\n     <g id=\"line2d_2\">\r\n      <defs>\r\n       <path d=\"M 0 0 \r\nL -3.5 0 \r\n\" id=\"m672076b597\" style=\"stroke:#000000;stroke-width:0.8;\"/>\r\n      </defs>\r\n      <g>\r\n       <use style=\"stroke:#000000;stroke-width:0.8;\" x=\"42.828125\" xlink:href=\"#m672076b597\" y=\"202.655688\"/>\r\n      </g>\r\n     </g>\r\n     <g id=\"text_2\">\r\n      <!-- 0.048 -->\r\n      <defs>\r\n       <path d=\"M 31.78125 66.40625 \r\nQ 24.171875 66.40625 20.328125 58.90625 \r\nQ 16.5 51.421875 16.5 36.375 \r\nQ 16.5 21.390625 20.328125 13.890625 \r\nQ 24.171875 6.390625 31.78125 6.390625 \r\nQ 39.453125 6.390625 43.28125 13.890625 \r\nQ 47.125 21.390625 47.125 36.375 \r\nQ 47.125 51.421875 43.28125 58.90625 \r\nQ 39.453125 66.40625 31.78125 66.40625 \r\nz\r\nM 31.78125 74.21875 \r\nQ 44.046875 74.21875 50.515625 64.515625 \r\nQ 56.984375 54.828125 56.984375 36.375 \r\nQ 56.984375 17.96875 50.515625 8.265625 \r\nQ 44.046875 -1.421875 31.78125 -1.421875 \r\nQ 19.53125 -1.421875 13.0625 8.265625 \r\nQ 6.59375 17.96875 6.59375 36.375 \r\nQ 6.59375 54.828125 13.0625 64.515625 \r\nQ 19.53125 74.21875 31.78125 74.21875 \r\nz\r\n\" id=\"DejaVuSans-48\"/>\r\n       <path d=\"M 10.6875 12.40625 \r\nL 21 12.40625 \r\nL 21 0 \r\nL 10.6875 0 \r\nz\r\n\" id=\"DejaVuSans-46\"/>\r\n       <path d=\"M 37.796875 64.3125 \r\nL 12.890625 25.390625 \r\nL 37.796875 25.390625 \r\nz\r\nM 35.203125 72.90625 \r\nL 47.609375 72.90625 \r\nL 47.609375 25.390625 \r\nL 58.015625 25.390625 \r\nL 58.015625 17.1875 \r\nL 47.609375 17.1875 \r\nL 47.609375 0 \r\nL 37.796875 0 \r\nL 37.796875 17.1875 \r\nL 4.890625 17.1875 \r\nL 4.890625 26.703125 \r\nz\r\n\" id=\"DejaVuSans-52\"/>\r\n       <path d=\"M 31.78125 34.625 \r\nQ 24.75 34.625 20.71875 30.859375 \r\nQ 16.703125 27.09375 16.703125 20.515625 \r\nQ 16.703125 13.921875 20.71875 10.15625 \r\nQ 24.75 6.390625 31.78125 6.390625 \r\nQ 38.8125 6.390625 42.859375 10.171875 \r\nQ 46.921875 13.96875 46.921875 20.515625 \r\nQ 46.921875 27.09375 42.890625 30.859375 \r\nQ 38.875 34.625 31.78125 34.625 \r\nz\r\nM 21.921875 38.8125 \r\nQ 15.578125 40.375 12.03125 44.71875 \r\nQ 8.5 49.078125 8.5 55.328125 \r\nQ 8.5 64.0625 14.71875 69.140625 \r\nQ 20.953125 74.21875 31.78125 74.21875 \r\nQ 42.671875 74.21875 48.875 69.140625 \r\nQ 55.078125 64.0625 55.078125 55.328125 \r\nQ 55.078125 49.078125 51.53125 44.71875 \r\nQ 48 40.375 41.703125 38.8125 \r\nQ 48.828125 37.15625 52.796875 32.3125 \r\nQ 56.78125 27.484375 56.78125 20.515625 \r\nQ 56.78125 9.90625 50.3125 4.234375 \r\nQ 43.84375 -1.421875 31.78125 -1.421875 \r\nQ 19.734375 -1.421875 13.25 4.234375 \r\nQ 6.78125 9.90625 6.78125 20.515625 \r\nQ 6.78125 27.484375 10.78125 32.3125 \r\nQ 14.796875 37.15625 21.921875 38.8125 \r\nz\r\nM 18.3125 54.390625 \r\nQ 18.3125 48.734375 21.84375 45.5625 \r\nQ 25.390625 42.390625 31.78125 42.390625 \r\nQ 38.140625 42.390625 41.71875 45.5625 \r\nQ 45.3125 48.734375 45.3125 54.390625 \r\nQ 45.3125 60.0625 41.71875 63.234375 \r\nQ 38.140625 66.40625 31.78125 66.40625 \r\nQ 25.390625 66.40625 21.84375 63.234375 \r\nQ 18.3125 60.0625 18.3125 54.390625 \r\nz\r\n\" id=\"DejaVuSans-56\"/>\r\n      </defs>\r\n      <g transform=\"translate(7.2 206.454907)scale(0.1 -0.1)\">\r\n       <use xlink:href=\"#DejaVuSans-48\"/>\r\n       <use x=\"63.623047\" xlink:href=\"#DejaVuSans-46\"/>\r\n       <use x=\"95.410156\" xlink:href=\"#DejaVuSans-48\"/>\r\n       <use x=\"159.033203\" xlink:href=\"#DejaVuSans-52\"/>\r\n       <use x=\"222.65625\" xlink:href=\"#DejaVuSans-56\"/>\r\n      </g>\r\n     </g>\r\n    </g>\r\n    <g id=\"ytick_2\">\r\n     <g id=\"line2d_3\">\r\n      <g>\r\n       <use style=\"stroke:#000000;stroke-width:0.8;\" x=\"42.828125\" xlink:href=\"#m672076b597\" y=\"157.584293\"/>\r\n      </g>\r\n     </g>\r\n     <g id=\"text_3\">\r\n      <!-- 0.050 -->\r\n      <defs>\r\n       <path d=\"M 10.796875 72.90625 \r\nL 49.515625 72.90625 \r\nL 49.515625 64.59375 \r\nL 19.828125 64.59375 \r\nL 19.828125 46.734375 \r\nQ 21.96875 47.46875 24.109375 47.828125 \r\nQ 26.265625 48.1875 28.421875 48.1875 \r\nQ 40.625 48.1875 47.75 41.5 \r\nQ 54.890625 34.8125 54.890625 23.390625 \r\nQ 54.890625 11.625 47.5625 5.09375 \r\nQ 40.234375 -1.421875 26.90625 -1.421875 \r\nQ 22.3125 -1.421875 17.546875 -0.640625 \r\nQ 12.796875 0.140625 7.71875 1.703125 \r\nL 7.71875 11.625 \r\nQ 12.109375 9.234375 16.796875 8.0625 \r\nQ 21.484375 6.890625 26.703125 6.890625 \r\nQ 35.15625 6.890625 40.078125 11.328125 \r\nQ 45.015625 15.765625 45.015625 23.390625 \r\nQ 45.015625 31 40.078125 35.4375 \r\nQ 35.15625 39.890625 26.703125 39.890625 \r\nQ 22.75 39.890625 18.8125 39.015625 \r\nQ 14.890625 38.140625 10.796875 36.28125 \r\nz\r\n\" id=\"DejaVuSans-53\"/>\r\n      </defs>\r\n      <g transform=\"translate(7.2 161.383512)scale(0.1 -0.1)\">\r\n       <use xlink:href=\"#DejaVuSans-48\"/>\r\n       <use x=\"63.623047\" xlink:href=\"#DejaVuSans-46\"/>\r\n       <use x=\"95.410156\" xlink:href=\"#DejaVuSans-48\"/>\r\n       <use x=\"159.033203\" xlink:href=\"#DejaVuSans-53\"/>\r\n       <use x=\"222.65625\" xlink:href=\"#DejaVuSans-48\"/>\r\n      </g>\r\n     </g>\r\n    </g>\r\n    <g id=\"ytick_3\">\r\n     <g id=\"line2d_4\">\r\n      <g>\r\n       <use style=\"stroke:#000000;stroke-width:0.8;\" x=\"42.828125\" xlink:href=\"#m672076b597\" y=\"112.512898\"/>\r\n      </g>\r\n     </g>\r\n     <g id=\"text_4\">\r\n      <!-- 0.052 -->\r\n      <defs>\r\n       <path d=\"M 19.1875 8.296875 \r\nL 53.609375 8.296875 \r\nL 53.609375 0 \r\nL 7.328125 0 \r\nL 7.328125 8.296875 \r\nQ 12.9375 14.109375 22.625 23.890625 \r\nQ 32.328125 33.6875 34.8125 36.53125 \r\nQ 39.546875 41.84375 41.421875 45.53125 \r\nQ 43.3125 49.21875 43.3125 52.78125 \r\nQ 43.3125 58.59375 39.234375 62.25 \r\nQ 35.15625 65.921875 28.609375 65.921875 \r\nQ 23.96875 65.921875 18.8125 64.3125 \r\nQ 13.671875 62.703125 7.8125 59.421875 \r\nL 7.8125 69.390625 \r\nQ 13.765625 71.78125 18.9375 73 \r\nQ 24.125 74.21875 28.421875 74.21875 \r\nQ 39.75 74.21875 46.484375 68.546875 \r\nQ 53.21875 62.890625 53.21875 53.421875 \r\nQ 53.21875 48.921875 51.53125 44.890625 \r\nQ 49.859375 40.875 45.40625 35.40625 \r\nQ 44.1875 33.984375 37.640625 27.21875 \r\nQ 31.109375 20.453125 19.1875 8.296875 \r\nz\r\n\" id=\"DejaVuSans-50\"/>\r\n      </defs>\r\n      <g transform=\"translate(7.2 116.312116)scale(0.1 -0.1)\">\r\n       <use xlink:href=\"#DejaVuSans-48\"/>\r\n       <use x=\"63.623047\" xlink:href=\"#DejaVuSans-46\"/>\r\n       <use x=\"95.410156\" xlink:href=\"#DejaVuSans-48\"/>\r\n       <use x=\"159.033203\" xlink:href=\"#DejaVuSans-53\"/>\r\n       <use x=\"222.65625\" xlink:href=\"#DejaVuSans-50\"/>\r\n      </g>\r\n     </g>\r\n    </g>\r\n    <g id=\"ytick_4\">\r\n     <g id=\"line2d_5\">\r\n      <g>\r\n       <use style=\"stroke:#000000;stroke-width:0.8;\" x=\"42.828125\" xlink:href=\"#m672076b597\" y=\"67.441502\"/>\r\n      </g>\r\n     </g>\r\n     <g id=\"text_5\">\r\n      <!-- 0.054 -->\r\n      <g transform=\"translate(7.2 71.240721)scale(0.1 -0.1)\">\r\n       <use xlink:href=\"#DejaVuSans-48\"/>\r\n       <use x=\"63.623047\" xlink:href=\"#DejaVuSans-46\"/>\r\n       <use x=\"95.410156\" xlink:href=\"#DejaVuSans-48\"/>\r\n       <use x=\"159.033203\" xlink:href=\"#DejaVuSans-53\"/>\r\n       <use x=\"222.65625\" xlink:href=\"#DejaVuSans-52\"/>\r\n      </g>\r\n     </g>\r\n    </g>\r\n    <g id=\"ytick_5\">\r\n     <g id=\"line2d_6\">\r\n      <g>\r\n       <use style=\"stroke:#000000;stroke-width:0.8;\" x=\"42.828125\" xlink:href=\"#m672076b597\" y=\"22.370107\"/>\r\n      </g>\r\n     </g>\r\n     <g id=\"text_6\">\r\n      <!-- 0.056 -->\r\n      <defs>\r\n       <path d=\"M 33.015625 40.375 \r\nQ 26.375 40.375 22.484375 35.828125 \r\nQ 18.609375 31.296875 18.609375 23.390625 \r\nQ 18.609375 15.53125 22.484375 10.953125 \r\nQ 26.375 6.390625 33.015625 6.390625 \r\nQ 39.65625 6.390625 43.53125 10.953125 \r\nQ 47.40625 15.53125 47.40625 23.390625 \r\nQ 47.40625 31.296875 43.53125 35.828125 \r\nQ 39.65625 40.375 33.015625 40.375 \r\nz\r\nM 52.59375 71.296875 \r\nL 52.59375 62.3125 \r\nQ 48.875 64.0625 45.09375 64.984375 \r\nQ 41.3125 65.921875 37.59375 65.921875 \r\nQ 27.828125 65.921875 22.671875 59.328125 \r\nQ 17.53125 52.734375 16.796875 39.40625 \r\nQ 19.671875 43.65625 24.015625 45.921875 \r\nQ 28.375 48.1875 33.59375 48.1875 \r\nQ 44.578125 48.1875 50.953125 41.515625 \r\nQ 57.328125 34.859375 57.328125 23.390625 \r\nQ 57.328125 12.15625 50.6875 5.359375 \r\nQ 44.046875 -1.421875 33.015625 -1.421875 \r\nQ 20.359375 -1.421875 13.671875 8.265625 \r\nQ 6.984375 17.96875 6.984375 36.375 \r\nQ 6.984375 53.65625 15.1875 63.9375 \r\nQ 23.390625 74.21875 37.203125 74.21875 \r\nQ 40.921875 74.21875 44.703125 73.484375 \r\nQ 48.484375 72.75 52.59375 71.296875 \r\nz\r\n\" id=\"DejaVuSans-54\"/>\r\n      </defs>\r\n      <g transform=\"translate(7.2 26.169326)scale(0.1 -0.1)\">\r\n       <use xlink:href=\"#DejaVuSans-48\"/>\r\n       <use x=\"63.623047\" xlink:href=\"#DejaVuSans-46\"/>\r\n       <use x=\"95.410156\" xlink:href=\"#DejaVuSans-48\"/>\r\n       <use x=\"159.033203\" xlink:href=\"#DejaVuSans-53\"/>\r\n       <use x=\"222.65625\" xlink:href=\"#DejaVuSans-54\"/>\r\n      </g>\r\n     </g>\r\n    </g>\r\n   </g>\r\n   <g id=\"line2d_7\">\r\n    <path clip-path=\"url(#p82868fa133)\" d=\"M 185.118125 138.192437 \r\nL 235.338125 138.192437 \r\nL 235.338125 41.597223 \r\nL 185.118125 41.597223 \r\nL 185.118125 138.192437 \r\n\" style=\"fill:none;stroke:#000000;stroke-linecap:square;\"/>\r\n   </g>\r\n   <g id=\"line2d_8\">\r\n    <path clip-path=\"url(#p82868fa133)\" d=\"M 210.228125 138.192437 \r\nL 210.228125 214.756364 \r\n\" style=\"fill:none;stroke:#000000;stroke-linecap:square;\"/>\r\n   </g>\r\n   <g id=\"line2d_9\">\r\n    <path clip-path=\"url(#p82868fa133)\" d=\"M 210.228125 41.597223 \r\nL 210.228125 17.083636 \r\n\" style=\"fill:none;stroke:#000000;stroke-linecap:square;\"/>\r\n   </g>\r\n   <g id=\"line2d_10\">\r\n    <path clip-path=\"url(#p82868fa133)\" d=\"M 197.673125 214.756364 \r\nL 222.783125 214.756364 \r\n\" style=\"fill:none;stroke:#000000;stroke-linecap:square;\"/>\r\n   </g>\r\n   <g id=\"line2d_11\">\r\n    <path clip-path=\"url(#p82868fa133)\" d=\"M 197.673125 17.083636 \r\nL 222.783125 17.083636 \r\n\" style=\"fill:none;stroke:#000000;stroke-linecap:square;\"/>\r\n   </g>\r\n   <g id=\"line2d_12\"/>\r\n   <g id=\"line2d_13\">\r\n    <path clip-path=\"url(#p82868fa133)\" d=\"M 185.118125 97.145947 \r\nL 235.338125 97.145947 \r\n\" style=\"fill:none;stroke:#ff7f0e;stroke-linecap:square;\"/>\r\n   </g>\r\n   <g id=\"patch_3\">\r\n    <path d=\"M 42.828125 224.64 \r\nL 42.828125 7.2 \r\n\" style=\"fill:none;stroke:#000000;stroke-linecap:square;stroke-linejoin:miter;stroke-width:0.8;\"/>\r\n   </g>\r\n   <g id=\"patch_4\">\r\n    <path d=\"M 377.628125 224.64 \r\nL 377.628125 7.2 \r\n\" style=\"fill:none;stroke:#000000;stroke-linecap:square;stroke-linejoin:miter;stroke-width:0.8;\"/>\r\n   </g>\r\n   <g id=\"patch_5\">\r\n    <path d=\"M 42.828125 224.64 \r\nL 377.628125 224.64 \r\n\" style=\"fill:none;stroke:#000000;stroke-linecap:square;stroke-linejoin:miter;stroke-width:0.8;\"/>\r\n   </g>\r\n   <g id=\"patch_6\">\r\n    <path d=\"M 42.828125 7.2 \r\nL 377.628125 7.2 \r\n\" style=\"fill:none;stroke:#000000;stroke-linecap:square;stroke-linejoin:miter;stroke-width:0.8;\"/>\r\n   </g>\r\n  </g>\r\n </g>\r\n <defs>\r\n  <clipPath id=\"p82868fa133\">\r\n   <rect height=\"217.44\" width=\"334.8\" x=\"42.828125\" y=\"7.2\"/>\r\n  </clipPath>\r\n </defs>\r\n</svg>\r\n",
      "image/png": "[encoded data removed]"
     },
     "metadata": {
      "needs_background": "light"
     }
    }
   ],
   "source": [
    "#Box plot de los mejores fitness del testeo (de cada particion)\n",
    "plt.boxplot(part_apts_mean)\n",
    "plt.show()"
   ]
  },
  {
   "cell_type": "code",
   "execution_count": 16,
   "metadata": {},
   "outputs": [],
   "source": [
    "dir_tst = 'resultados/SM2/test/'\n",
    "dir_trn = 'resultados/SM2/train/'"
   ]
  },
  {
   "cell_type": "code",
   "execution_count": 17,
   "metadata": {},
   "outputs": [
    {
     "output_type": "stream",
     "name": "stdout",
     "text": [
      "d:\\Documentos\\ic_tps\\SRS\n"
     ]
    }
   ],
   "source": [
    "cd SRS/"
   ]
  },
  {
   "cell_type": "code",
   "execution_count": 18,
   "metadata": {},
   "outputs": [],
   "source": [
    "# Guardar datos de testeo\n",
    "np.save(dir_tst + 'v_apts.npy', part_apts)\n",
    "np.save(dir_tst + 'mean_apts.npy', part_apts_mean)\n",
    "np.save(dir_tst + 'std_apts.npy', part_apts_std)\n",
    "# Guardar los datos de entrenamiento (alfa, psi, phi, umbral) de cada particion\n",
    "np.save(dir_trn + 'v_alfa.npy', part_alfa)\n",
    "np.save(dir_trn + 'v_beta.npy', part_beta)\n",
    "np.save(dir_trn + 'v_gamma.npy', part_gamma)\n",
    "np.save(dir_trn + 'v_best_fitness.npy', mejores_fitnesses)\n",
    "np.save(dir_trn + 'v_part_fitness', v_part_fitness)"
   ]
  },
  {
   "cell_type": "code",
   "execution_count": 21,
   "metadata": {},
   "outputs": [
    {
     "output_type": "execute_result",
     "data": {
      "text/plain": [
       "[0.20700497106370047,\n",
       " 3.6860173835288896,\n",
       " 0.2849633295880289,\n",
       " 1.2809212052085635,\n",
       " 0.9428547424663368]"
      ]
     },
     "metadata": {},
     "execution_count": 21
    }
   ],
   "source": [
    "part_alfa"
   ]
  },
  {
   "cell_type": "code",
   "execution_count": 22,
   "metadata": {},
   "outputs": [
    {
     "output_type": "execute_result",
     "data": {
      "text/plain": [
       "[0.6180422311816758,\n",
       " 0.4383413739859512,\n",
       " 0.2188072960998931,\n",
       " 0.0632825634100312,\n",
       " 0.8046727728142149]"
      ]
     },
     "metadata": {},
     "execution_count": 22
    }
   ],
   "source": [
    "part_beta"
   ]
  },
  {
   "cell_type": "code",
   "execution_count": 23,
   "metadata": {},
   "outputs": [
    {
     "output_type": "execute_result",
     "data": {
      "text/plain": [
       "[-2.089633342893453,\n",
       " -4.790785144819678,\n",
       " 4.5018952614645436,\n",
       " 0.5884683649879587,\n",
       " -4.57522622270065]"
      ]
     },
     "metadata": {},
     "execution_count": 23
    }
   ],
   "source": [
    "part_gamma"
   ]
  },
  {
   "cell_type": "code",
   "execution_count": 25,
   "metadata": {},
   "outputs": [
    {
     "output_type": "execute_result",
     "data": {
      "text/plain": [
       "3"
      ]
     },
     "metadata": {},
     "execution_count": 25
    }
   ],
   "source": []
  },
  {
   "cell_type": "code",
   "execution_count": null,
   "metadata": {},
   "outputs": [],
   "source": []
  }
 ]
}