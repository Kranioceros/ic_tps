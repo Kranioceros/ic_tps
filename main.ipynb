{
 "metadata": {
  "language_info": {
   "codemirror_mode": {
    "name": "ipython",
    "version": 3
   },
   "file_extension": ".py",
   "mimetype": "text/x-python",
   "name": "python",
   "nbconvert_exporter": "python",
   "pygments_lexer": "ipython3",
   "version": "3.8.6-final"
  },
  "orig_nbformat": 2,
  "kernelspec": {
   "name": "python3",
   "display_name": "Python 3"
  }
 },
 "nbformat": 4,
 "nbformat_minor": 2,
 "cells": [
  {
   "cell_type": "code",
   "execution_count": 17,
   "metadata": {},
   "outputs": [
    {
     "output_type": "stream",
     "name": "stdout",
     "text": [
      "/home/rama/git/ic_tps/SRS\n"
     ]
    }
   ],
   "source": [
    "cd SRS/"
   ]
  },
  {
   "cell_type": "code",
   "execution_count": 18,
   "metadata": {},
   "outputs": [],
   "source": [
    "import numpy as np\n",
    "from srs import SRGA\n",
    "from Evolutivo.evolutivo import GA\n",
    "from tqdm import tqdm\n",
    "from utils import fitness\n",
    "\n",
    "n_bits = 30\n",
    "\n",
    "# Alfa, Umbral, Phi(5), Psi(5)\n",
    "var_bits = np.ones(12, dtype=int) * 30\n",
    "var_lims = np.zeros(13, dtype=int)\n",
    "var_lims[:-1] = np.arange(0, 12) * var_bits\n",
    "var_lims[-1] = int(n_bits*12)\n",
    "var_min  = np.array(\n",
    "    [0, 0, -100, -100, -100, -100, -100, -100, -100, -100, -100, -100]\n",
    ")\n",
    "var_max  = np.array(\n",
    "    [100, 1, 100, 100, 100, 100, 100, 100, 100, 100, 100, 100]\n",
    ")\n",
    "\n",
    "interrev = 1 * 24 * 3600\n",
    "nvent = 5\n",
    "ancho_ventanas = np.exp( np.log(15) / nvent * np.arange(1, nvent+1))\n",
    "ancho_ventanas *= (24 * 3600)"
   ]
  },
  {
   "cell_type": "code",
   "execution_count": 19,
   "metadata": {},
   "outputs": [],
   "source": [
    "def DecoDecimal(v, a=var_min, b=var_max):\n",
    "    vs = []\n",
    "    for i in range(len(var_lims)-1):\n",
    "        vs.append(v[var_lims[i]:var_lims[i+1]])\n",
    "\n",
    "    xs = []\n",
    "    xs = np.zeros(a.size)\n",
    "\n",
    "    for (i,vi) in enumerate(vs):\n",
    "        k = len(vi)\n",
    "        d = sum(2**(k-np.array(range(1,k+1)))*vi)\n",
    "        xs[i] = a[i] + (d*((b[i]-a[i])/((2**k)-1)))\n",
    "\n",
    "    return xs"
   ]
  },
  {
   "cell_type": "code",
   "execution_count": 20,
   "metadata": {},
   "outputs": [
    {
     "output_type": "stream",
     "name": "stdout",
     "text": [
      "/home/rama/git/ic_tps\n"
     ]
    }
   ],
   "source": [
    "cd .."
   ]
  },
  {
   "cell_type": "code",
   "execution_count": 25,
   "metadata": {},
   "outputs": [
    {
     "output_type": "stream",
     "name": "stdout",
     "text": [
      "---INICIA init_acums---\nCargando datos cacheados...\n"
     ]
    }
   ],
   "source": [
    "#Cargar las matrices m_t, m_c, m_s y a lens\n",
    "m_t = np.load('SRS/data/times.npy')\n",
    "m_c = np.load('SRS/data/correct.npy')\n",
    "m_s = np.load('SRS/data/seen.npy')\n",
    "lens = np.load('SRS/data/len_schedule.npy')\n",
    "lens = lens.astype(int)\n",
    "\n",
    "# NUMEROS MAGICOS\n",
    "N = m_t.shape[0]\n",
    "N_parts = 5\n",
    "N_ind = 20\n",
    "n = 5\n",
    "max_gen = 20\n",
    "\n",
    "# Calculamos particiones\n",
    "len_part = int(N / 5)\n",
    "parts = []\n",
    "idx = np.arange(0, N)\n",
    "np.random.shuffle(idx)\n",
    "for i in range(N_parts-1):\n",
    "    parts.append(idx[i*len_part:(i+1)*len_part])\n",
    "parts.append(idx[(N_parts-1)*len_part:])\n",
    "\n",
    "# Inicializamos la clase SRGA, que preprocesa los datos si hace falta\n",
    "SRGA.init_class(lens, m_t, m_c, m_s, res=1000)"
   ]
  },
  {
   "cell_type": "code",
   "execution_count": 26,
   "metadata": {},
   "outputs": [
    {
     "output_type": "stream",
     "name": "stderr",
     "text": [
      "  0%|          | 0/5 [00:00<?, ?it/s]\n",
      "  0%|          | 0/20 [00:00<?, ?it/s]\u001b[A\n",
      "  5%|▌         | 1/20 [00:03<01:11,  3.75s/it]\u001b[A\n",
      " 10%|█         | 2/20 [00:06<01:04,  3.58s/it]\u001b[A\n",
      " 15%|█▌        | 3/20 [00:10<00:58,  3.47s/it]\u001b[A\n",
      " 20%|██        | 4/20 [00:13<00:56,  3.51s/it]\u001b[A\n",
      " 25%|██▌       | 5/20 [00:16<00:51,  3.41s/it]\u001b[A\n",
      " 30%|███       | 6/20 [00:20<00:50,  3.57s/it]\u001b[A\n",
      " 35%|███▌      | 7/20 [00:24<00:45,  3.51s/it]\u001b[A\n",
      " 40%|████      | 8/20 [00:28<00:43,  3.60s/it]\u001b[A\n",
      " 45%|████▌     | 9/20 [00:31<00:39,  3.58s/it]\u001b[A\n",
      " 50%|█████     | 10/20 [00:35<00:36,  3.60s/it]\u001b[A\n",
      " 55%|█████▌    | 11/20 [00:38<00:32,  3.56s/it]\u001b[A\n",
      " 60%|██████    | 12/20 [00:42<00:28,  3.53s/it]\u001b[A\n",
      " 65%|██████▌   | 13/20 [00:45<00:24,  3.51s/it]\u001b[A\n",
      " 70%|███████   | 14/20 [00:48<00:20,  3.42s/it]\u001b[A\n",
      " 75%|███████▌  | 15/20 [00:52<00:16,  3.36s/it]\u001b[A\n",
      " 80%|████████  | 16/20 [00:56<00:14,  3.55s/it]\u001b[A\n",
      " 85%|████████▌ | 17/20 [00:59<00:10,  3.56s/it]\u001b[A\n",
      " 90%|█████████ | 18/20 [01:03<00:07,  3.52s/it]\u001b[A\n",
      " 95%|█████████▌| 19/20 [01:06<00:03,  3.56s/it]\u001b[A\n",
      "100%|██████████| 20/20 [01:10<00:00,  3.54s/it]\n",
      " 20%|██        | 1/5 [01:10<04:42, 70.72s/it]\n",
      "  0%|          | 0/20 [00:00<?, ?it/s]\u001b[A\n",
      "  5%|▌         | 1/20 [00:03<01:11,  3.75s/it]\u001b[A\n",
      " 10%|█         | 2/20 [00:07<01:07,  3.74s/it]\u001b[A\n",
      " 15%|█▌        | 3/20 [00:11<01:03,  3.74s/it]\u001b[A\n",
      " 20%|██        | 4/20 [00:14<00:58,  3.69s/it]\u001b[A\n",
      " 25%|██▌       | 5/20 [00:18<00:54,  3.62s/it]\u001b[A\n",
      " 30%|███       | 6/20 [00:21<00:49,  3.55s/it]\u001b[A\n",
      " 35%|███▌      | 7/20 [00:24<00:45,  3.47s/it]\u001b[A\n",
      " 40%|████      | 8/20 [00:28<00:41,  3.48s/it]\u001b[A\n",
      " 45%|████▌     | 9/20 [00:31<00:38,  3.49s/it]\u001b[A\n",
      " 50%|█████     | 10/20 [00:35<00:35,  3.57s/it]\u001b[A\n",
      " 55%|█████▌    | 11/20 [00:39<00:32,  3.63s/it]\u001b[A\n",
      " 60%|██████    | 12/20 [00:42<00:28,  3.56s/it]\u001b[A\n",
      " 65%|██████▌   | 13/20 [00:46<00:24,  3.56s/it]\u001b[A\n",
      " 70%|███████   | 14/20 [00:49<00:21,  3.54s/it]\u001b[A\n",
      " 75%|███████▌  | 15/20 [00:53<00:17,  3.46s/it]\u001b[A\n",
      " 80%|████████  | 16/20 [00:56<00:13,  3.45s/it]\u001b[A\n",
      " 85%|████████▌ | 17/20 [01:00<00:10,  3.65s/it]\u001b[A\n",
      " 90%|█████████ | 18/20 [01:04<00:07,  3.60s/it]\u001b[A\n",
      " 95%|█████████▌| 19/20 [01:07<00:03,  3.48s/it]\u001b[A\n",
      "100%|██████████| 20/20 [01:10<00:00,  3.54s/it]\n",
      " 40%|████      | 2/5 [02:21<03:32, 70.74s/it]\n",
      "  0%|          | 0/20 [00:00<?, ?it/s]\u001b[A\n",
      "  5%|▌         | 1/20 [00:03<01:07,  3.54s/it]\u001b[A\n",
      " 10%|█         | 2/20 [00:07<01:03,  3.55s/it]\u001b[A\n",
      " 15%|█▌        | 3/20 [00:10<00:59,  3.52s/it]\u001b[A\n",
      " 20%|██        | 4/20 [00:13<00:55,  3.49s/it]\u001b[A\n",
      " 25%|██▌       | 5/20 [00:17<00:51,  3.46s/it]\u001b[A\n",
      " 30%|███       | 6/20 [00:21<00:49,  3.54s/it]\u001b[A\n",
      " 35%|███▌      | 7/20 [00:24<00:45,  3.52s/it]\u001b[A\n",
      " 40%|████      | 8/20 [00:28<00:42,  3.54s/it]\u001b[A\n",
      " 45%|████▌     | 9/20 [00:31<00:38,  3.53s/it]\u001b[A\n",
      " 50%|█████     | 10/20 [00:35<00:35,  3.51s/it]\u001b[A\n",
      " 55%|█████▌    | 11/20 [00:38<00:30,  3.43s/it]\u001b[A\n",
      " 60%|██████    | 12/20 [00:41<00:27,  3.41s/it]\u001b[A\n",
      " 65%|██████▌   | 13/20 [00:45<00:24,  3.47s/it]\u001b[A\n",
      " 70%|███████   | 14/20 [00:48<00:20,  3.39s/it]\u001b[A\n",
      " 75%|███████▌  | 15/20 [00:52<00:17,  3.50s/it]\u001b[A\n",
      " 80%|████████  | 16/20 [00:55<00:13,  3.48s/it]\u001b[A\n",
      " 85%|████████▌ | 17/20 [00:59<00:10,  3.45s/it]\u001b[A\n",
      " 90%|█████████ | 18/20 [01:02<00:06,  3.47s/it]\u001b[A\n",
      " 95%|█████████▌| 19/20 [01:06<00:03,  3.48s/it]\u001b[A\n",
      "100%|██████████| 20/20 [01:09<00:00,  3.48s/it]\n",
      " 60%|██████    | 3/5 [03:31<02:20, 70.42s/it]\n",
      "  0%|          | 0/20 [00:00<?, ?it/s]\u001b[A\n",
      "  5%|▌         | 1/20 [00:03<01:12,  3.82s/it]\u001b[A\n",
      " 10%|█         | 2/20 [00:07<01:07,  3.74s/it]\u001b[A\n",
      " 15%|█▌        | 3/20 [00:10<01:01,  3.60s/it]\u001b[A\n",
      " 20%|██        | 4/20 [00:13<00:55,  3.47s/it]\u001b[A\n",
      " 25%|██▌       | 5/20 [00:17<00:51,  3.45s/it]\u001b[A\n",
      " 30%|███       | 6/20 [00:20<00:48,  3.50s/it]\u001b[A\n",
      " 35%|███▌      | 7/20 [00:24<00:46,  3.58s/it]\u001b[A\n",
      " 40%|████      | 8/20 [00:28<00:42,  3.57s/it]\u001b[A\n",
      " 45%|████▌     | 9/20 [00:31<00:38,  3.49s/it]\u001b[A\n",
      " 50%|█████     | 10/20 [00:34<00:34,  3.48s/it]\u001b[A\n",
      " 55%|█████▌    | 11/20 [00:38<00:32,  3.63s/it]\u001b[A\n",
      " 60%|██████    | 12/20 [00:42<00:29,  3.63s/it]\u001b[A\n",
      " 65%|██████▌   | 13/20 [00:46<00:25,  3.63s/it]\u001b[A\n",
      " 70%|███████   | 14/20 [00:49<00:21,  3.57s/it]\u001b[A\n",
      " 75%|███████▌  | 15/20 [00:53<00:17,  3.58s/it]\u001b[A\n",
      " 80%|████████  | 16/20 [00:56<00:13,  3.49s/it]\u001b[A\n",
      " 85%|████████▌ | 17/20 [00:59<00:10,  3.46s/it]\u001b[A\n",
      " 90%|█████████ | 18/20 [01:03<00:06,  3.49s/it]\u001b[A\n",
      " 95%|█████████▌| 19/20 [01:07<00:03,  3.58s/it]\u001b[A\n",
      "100%|██████████| 20/20 [01:10<00:00,  3.52s/it]\n",
      " 80%|████████  | 4/5 [04:41<01:10, 70.41s/it]\n",
      "  0%|          | 0/20 [00:00<?, ?it/s]\u001b[A\n",
      "  5%|▌         | 1/20 [00:03<01:07,  3.56s/it]\u001b[A\n",
      " 10%|█         | 2/20 [00:07<01:05,  3.62s/it]\u001b[A\n",
      " 15%|█▌        | 3/20 [00:10<01:00,  3.57s/it]\u001b[A\n",
      " 20%|██        | 4/20 [00:14<00:57,  3.62s/it]\u001b[A\n",
      " 25%|██▌       | 5/20 [00:18<00:55,  3.70s/it]\u001b[A\n",
      " 30%|███       | 6/20 [00:22<00:51,  3.68s/it]\u001b[A\n",
      " 35%|███▌      | 7/20 [00:25<00:48,  3.70s/it]\u001b[A\n",
      " 40%|████      | 8/20 [00:29<00:44,  3.71s/it]\u001b[A\n",
      " 45%|████▌     | 9/20 [00:33<00:40,  3.72s/it]\u001b[A\n",
      " 50%|█████     | 10/20 [00:36<00:36,  3.69s/it]\u001b[A\n",
      " 55%|█████▌    | 11/20 [00:40<00:33,  3.73s/it]\u001b[A\n",
      " 60%|██████    | 12/20 [00:44<00:29,  3.67s/it]\u001b[A\n",
      " 65%|██████▌   | 13/20 [00:47<00:24,  3.53s/it]\u001b[A\n",
      " 70%|███████   | 14/20 [00:51<00:21,  3.59s/it]\u001b[A\n",
      " 75%|███████▌  | 15/20 [00:55<00:18,  3.67s/it]\u001b[A\n",
      " 80%|████████  | 16/20 [00:58<00:14,  3.70s/it]\u001b[A\n",
      " 85%|████████▌ | 17/20 [01:02<00:11,  3.68s/it]\u001b[A\n",
      " 90%|█████████ | 18/20 [01:05<00:07,  3.65s/it]\u001b[A\n",
      " 95%|█████████▌| 19/20 [01:09<00:03,  3.49s/it]\u001b[A\n",
      "100%|██████████| 20/20 [01:12<00:00,  3.64s/it]\n",
      "100%|██████████| 5/5 [05:54<00:00, 70.87s/it]\n"
     ]
    }
   ],
   "source": [
    "mejores_fitnesses = []\n",
    "\n",
    "for part in tqdm(parts):\n",
    "    # Definimos la funcion de fitness a utilizar (depende de algunos datos cargados)\n",
    "    def f_fitness(vars):\n",
    "        alfa0 = vars[0]\n",
    "        umbral = vars[1]\n",
    "        phi = vars[2:7]\n",
    "        psi = vars[7:]\n",
    "\n",
    "        srga = SRGA(alfa0, phi, psi, umbral)\n",
    "\n",
    "        v_apts = np.zeros(n)\n",
    "        scheds = np.random.choice(part, size=n)\n",
    "\n",
    "        for i, s in enumerate(scheds):\n",
    "            l = lens[s]\n",
    "            if m_t[s,l-1] < interrev:\n",
    "                continue\n",
    "\n",
    "            v_apts[i] = fitness(s, m_t[s,:l], m_c[s,:l], m_s[s,:l], srs=srga)\n",
    "        \n",
    "        return np.average(v_apts)\n",
    "    \n",
    "    # Definimos parametros a usar en el evolutivo\n",
    "    evolutivo_kwargs = {\n",
    "                'N'                : N_ind,\n",
    "                'v_var'            : var_bits,\n",
    "                'probCrossOver'    : 0.9,\n",
    "                'probMutation'     : 0.2,\n",
    "                'f_deco'           : DecoDecimal,\n",
    "                'f_fitness'        : f_fitness,\n",
    "                'maxGens'          : max_gen,\n",
    "                'debugLvl'         : 90,\n",
    "    }\n",
    "\n",
    "    #Evolucionamos\n",
    "    ga = GA(**evolutivo_kwargs)\n",
    "    ga.Evolve(brecha=0)\n",
    "    # Guardamos datos\n",
    "    mejores_fitnesses.append(ga.bestFitness)"
   ]
  },
  {
   "cell_type": "code",
   "execution_count": 27,
   "metadata": {},
   "outputs": [
    {
     "output_type": "execute_result",
     "data": {
      "text/plain": [
       "[77.75136400512466,\n",
       " 105.64798113840409,\n",
       " 84.98189039655695,\n",
       " 82.00447224370043,\n",
       " 92.01289962456717]"
      ]
     },
     "metadata": {},
     "execution_count": 27
    }
   ],
   "source": [
    "mejores_fitnesses"
   ]
  },
  {
   "cell_type": "code",
   "execution_count": null,
   "metadata": {},
   "outputs": [],
   "source": []
  }
 ]
}