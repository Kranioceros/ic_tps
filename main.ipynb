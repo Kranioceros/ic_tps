{
 "metadata": {
  "language_info": {
   "codemirror_mode": {
    "name": "ipython",
    "version": 3
   },
   "file_extension": ".py",
   "mimetype": "text/x-python",
   "name": "python",
   "nbconvert_exporter": "python",
   "pygments_lexer": "ipython3",
   "version": "3.8.6-final"
  },
  "orig_nbformat": 2,
  "kernelspec": {
   "name": "python3",
   "display_name": "Python 3"
  }
 },
 "nbformat": 4,
 "nbformat_minor": 2,
 "cells": [
  {
   "cell_type": "code",
   "execution_count": 3,
   "metadata": {},
   "outputs": [
    {
     "output_type": "stream",
     "name": "stdout",
     "text": [
      "c:\\Users\\axel_\\Documents\\GITHUB REPOSITORIOS\\ic_tps\\SRS\n"
     ]
    }
   ],
   "source": [
    "cd SRS/"
   ]
  },
  {
   "cell_type": "code",
   "execution_count": 4,
   "metadata": {},
   "outputs": [],
   "source": [
    "import numpy as np\n",
    "from srs import SRGA\n",
    "from Evolutivo.evolutivo import GA\n",
    "from tqdm import tqdm\n",
    "from utils import fitness\n",
    "\n",
    "n_bits = 30\n",
    "\n",
    "# Alfa, Umbral, Phi(5), Psi(5)\n",
    "var_bits = np.ones(12, dtype=int) * 30\n",
    "var_lims = np.zeros(13, dtype=int)\n",
    "var_lims[:-1] = np.arange(0, 12) * var_bits\n",
    "var_lims[-1] = int(n_bits*12)\n",
    "var_min  = np.array(\n",
    "    [0, 0, -100, -100, -100, -100, -100, -100, -100, -100, -100, -100]\n",
    ")\n",
    "var_max  = np.array(\n",
    "    [100, 1, 100, 100, 100, 100, 100, 100, 100, 100, 100, 100]\n",
    ")\n",
    "\n",
    "interrev = 1 * 24 * 3600\n",
    "nvent = 5\n",
    "ancho_ventanas = np.exp( np.log(15) / nvent * np.arange(1, nvent+1))\n",
    "ancho_ventanas *= (24 * 3600)"
   ]
  },
  {
   "cell_type": "code",
   "execution_count": 5,
   "metadata": {},
   "outputs": [],
   "source": [
    "def DecoDecimal(v, a=var_min, b=var_max):\n",
    "    vs = []\n",
    "    for i in range(len(var_lims)-1):\n",
    "        vs.append(v[var_lims[i]:var_lims[i+1]])\n",
    "\n",
    "    xs = []\n",
    "    xs = np.zeros(a.size)\n",
    "\n",
    "    for (i,vi) in enumerate(vs):\n",
    "        k = len(vi)\n",
    "        d = sum(2**(k-np.array(range(1,k+1)))*vi)\n",
    "        xs[i] = a[i] + (d*((b[i]-a[i])/((2**k)-1)))\n",
    "\n",
    "    return xs"
   ]
  },
  {
   "cell_type": "code",
   "execution_count": 6,
   "metadata": {},
   "outputs": [
    {
     "output_type": "stream",
     "name": "stdout",
     "text": [
      "c:\\Users\\axel_\\Documents\\GITHUB REPOSITORIOS\\ic_tps\n"
     ]
    }
   ],
   "source": [
    "cd .."
   ]
  },
  {
   "cell_type": "code",
   "execution_count": 7,
   "metadata": {},
   "outputs": [
    {
     "output_type": "stream",
     "name": "stderr",
     "text": [
      "  0%|          | 0/6242 [00:00<?, ?it/s]---INICIA init_acums---\n",
      "Generando matrices...\n",
      "100%|██████████| 6242/6242 [05:05<00:00, 20.44it/s]\n"
     ]
    }
   ],
   "source": [
    "#Cargar las matrices m_t, m_c, m_s y a lens\n",
    "m_t = np.load('SRS/data/times.npy')\n",
    "m_c = np.load('SRS/data/correct.npy')\n",
    "m_s = np.load('SRS/data/seen.npy')\n",
    "m_d = np.load('SRS/data/lexemes_dificulty.npy')\n",
    "lens = np.load('SRS/data/len_schedule.npy')\n",
    "lens = lens.astype(int)\n",
    "\n",
    "# NUMEROS MAGICOS\n",
    "N = m_t.shape[0]\n",
    "N_parts = 5\n",
    "N_ind = 20\n",
    "n = 5\n",
    "max_gen = 20\n",
    "\n",
    "# Calculamos particiones\n",
    "len_part = int(N / 5)\n",
    "parts = []\n",
    "idx = np.arange(0, N)\n",
    "np.random.shuffle(idx)\n",
    "for i in range(N_parts-1):\n",
    "    parts.append(idx[i*len_part:(i+1)*len_part])\n",
    "parts.append(idx[(N_parts-1)*len_part:])\n",
    "\n",
    "# Inicializamos la clase SRGA, que preprocesa los datos si hace falta\n",
    "SRGA.init_class(lens, m_t, m_c, m_s, m_d, res=1000)"
   ]
  },
  {
   "cell_type": "code",
   "execution_count": 8,
   "metadata": {},
   "outputs": [
    {
     "output_type": "stream",
     "name": "stderr",
     "text": [
      "  0%|          | 0/5 [00:00<?, ?it/s]\n",
      "  0%|          | 0/20 [00:00<?, ?it/s]\u001b[A\n",
      "  5%|▌         | 1/20 [00:02<00:44,  2.34s/it]\u001b[A\n",
      " 10%|█         | 2/20 [00:04<00:39,  2.21s/it]\u001b[A\n",
      " 15%|█▌        | 3/20 [00:06<00:39,  2.30s/it]\u001b[A\n",
      " 20%|██        | 4/20 [00:09<00:37,  2.32s/it]\u001b[A\n",
      " 25%|██▌       | 5/20 [00:11<00:34,  2.27s/it]\u001b[A\n",
      " 30%|███       | 6/20 [00:13<00:32,  2.33s/it]\u001b[A\n",
      " 35%|███▌      | 7/20 [00:16<00:30,  2.36s/it]\u001b[A\n",
      " 40%|████      | 8/20 [00:18<00:27,  2.32s/it]\u001b[A\n",
      " 45%|████▌     | 9/20 [00:21<00:26,  2.43s/it]\u001b[A\n",
      " 50%|█████     | 10/20 [00:23<00:24,  2.41s/it]\u001b[A\n",
      " 55%|█████▌    | 11/20 [00:25<00:20,  2.31s/it]\u001b[A\n",
      " 60%|██████    | 12/20 [00:27<00:18,  2.36s/it]\u001b[A\n",
      " 65%|██████▌   | 13/20 [00:30<00:16,  2.30s/it]\u001b[A\n",
      " 70%|███████   | 14/20 [00:32<00:13,  2.31s/it]\u001b[A\n",
      " 75%|███████▌  | 15/20 [00:34<00:11,  2.32s/it]\u001b[A\n",
      " 80%|████████  | 16/20 [00:37<00:09,  2.42s/it]\u001b[A\n",
      " 85%|████████▌ | 17/20 [00:39<00:07,  2.44s/it]\u001b[A\n",
      " 90%|█████████ | 18/20 [00:42<00:04,  2.45s/it]\u001b[A\n",
      " 95%|█████████▌| 19/20 [00:44<00:02,  2.44s/it]\u001b[A\n",
      "100%|██████████| 20/20 [00:47<00:00,  2.37s/it]\n",
      " 20%|██        | 1/5 [00:47<03:09, 47.44s/it]\n",
      "  0%|          | 0/20 [00:00<?, ?it/s]\u001b[A\n",
      "  5%|▌         | 1/20 [00:02<00:46,  2.47s/it]\u001b[A\n",
      " 10%|█         | 2/20 [00:04<00:43,  2.44s/it]\u001b[A\n",
      " 15%|█▌        | 3/20 [00:07<00:43,  2.54s/it]\u001b[A\n",
      " 20%|██        | 4/20 [00:09<00:39,  2.49s/it]\u001b[A\n",
      " 25%|██▌       | 5/20 [00:12<00:36,  2.45s/it]\u001b[A\n",
      " 30%|███       | 6/20 [00:14<00:33,  2.37s/it]\u001b[A\n",
      " 35%|███▌      | 7/20 [00:16<00:30,  2.35s/it]\u001b[A\n",
      " 40%|████      | 8/20 [00:19<00:29,  2.42s/it]\u001b[A\n",
      " 45%|████▌     | 9/20 [00:21<00:26,  2.43s/it]\u001b[A\n",
      " 50%|█████     | 10/20 [00:24<00:23,  2.39s/it]\u001b[A\n",
      " 55%|█████▌    | 11/20 [00:26<00:21,  2.38s/it]\u001b[A\n",
      " 60%|██████    | 12/20 [00:28<00:19,  2.41s/it]\u001b[A\n",
      " 65%|██████▌   | 13/20 [00:31<00:16,  2.40s/it]\u001b[A\n",
      " 70%|███████   | 14/20 [00:33<00:14,  2.38s/it]\u001b[A\n",
      " 75%|███████▌  | 15/20 [00:36<00:12,  2.48s/it]\u001b[A\n",
      " 80%|████████  | 16/20 [00:39<00:10,  2.52s/it]\u001b[A\n",
      " 85%|████████▌ | 17/20 [00:41<00:07,  2.55s/it]\u001b[A\n",
      " 90%|█████████ | 18/20 [00:44<00:05,  2.51s/it]\u001b[A\n",
      " 95%|█████████▌| 19/20 [00:46<00:02,  2.52s/it]\u001b[A\n",
      "100%|██████████| 20/20 [00:48<00:00,  2.44s/it]\n",
      " 40%|████      | 2/5 [01:36<02:23, 47.86s/it]\n",
      "  0%|          | 0/20 [00:00<?, ?it/s]\u001b[A\n",
      "  5%|▌         | 1/20 [00:02<00:43,  2.29s/it]\u001b[A\n",
      " 10%|█         | 2/20 [00:04<00:41,  2.30s/it]\u001b[A\n",
      " 15%|█▌        | 3/20 [00:06<00:39,  2.33s/it]\u001b[A\n",
      " 20%|██        | 4/20 [00:09<00:36,  2.28s/it]\u001b[A\n",
      " 25%|██▌       | 5/20 [00:11<00:35,  2.37s/it]\u001b[A\n",
      " 30%|███       | 6/20 [00:14<00:33,  2.37s/it]\u001b[A\n",
      " 35%|███▌      | 7/20 [00:16<00:30,  2.36s/it]\u001b[A\n",
      " 40%|████      | 8/20 [00:18<00:28,  2.40s/it]\u001b[A\n",
      " 45%|████▌     | 9/20 [00:21<00:26,  2.42s/it]\u001b[A\n",
      " 50%|█████     | 10/20 [00:23<00:23,  2.37s/it]\u001b[A\n",
      " 55%|█████▌    | 11/20 [00:26<00:21,  2.40s/it]\u001b[A\n",
      " 60%|██████    | 12/20 [00:28<00:18,  2.35s/it]\u001b[A\n",
      " 65%|██████▌   | 13/20 [00:30<00:16,  2.39s/it]\u001b[A\n",
      " 70%|███████   | 14/20 [00:33<00:14,  2.42s/it]\u001b[A\n",
      " 75%|███████▌  | 15/20 [00:35<00:11,  2.36s/it]\u001b[A\n",
      " 80%|████████  | 16/20 [00:37<00:09,  2.35s/it]\u001b[A\n",
      " 85%|████████▌ | 17/20 [00:40<00:07,  2.39s/it]\u001b[A\n",
      " 90%|█████████ | 18/20 [00:42<00:04,  2.40s/it]\u001b[A\n",
      " 95%|█████████▌| 19/20 [00:45<00:02,  2.42s/it]\u001b[A\n",
      "100%|██████████| 20/20 [00:47<00:00,  2.40s/it]\n",
      " 60%|██████    | 3/5 [02:24<01:35, 47.89s/it]\n",
      "  0%|          | 0/20 [00:00<?, ?it/s]\u001b[A\n",
      "  5%|▌         | 1/20 [00:02<00:43,  2.27s/it]\u001b[A\n",
      " 10%|█         | 2/20 [00:04<00:40,  2.26s/it]\u001b[A\n",
      " 15%|█▌        | 3/20 [00:07<00:40,  2.36s/it]\u001b[A\n",
      " 20%|██        | 4/20 [00:09<00:38,  2.38s/it]\u001b[A\n",
      " 25%|██▌       | 5/20 [00:11<00:34,  2.32s/it]\u001b[A\n",
      " 30%|███       | 6/20 [00:13<00:31,  2.28s/it]\u001b[A\n",
      " 35%|███▌      | 7/20 [00:16<00:29,  2.29s/it]\u001b[A\n",
      " 40%|████      | 8/20 [00:18<00:27,  2.31s/it]\u001b[A\n",
      " 45%|████▌     | 9/20 [00:20<00:24,  2.23s/it]\u001b[A\n",
      " 50%|█████     | 10/20 [00:22<00:22,  2.26s/it]\u001b[A\n",
      " 55%|█████▌    | 11/20 [00:24<00:19,  2.20s/it]\u001b[A\n",
      " 60%|██████    | 12/20 [00:27<00:17,  2.21s/it]\u001b[A\n",
      " 65%|██████▌   | 13/20 [00:29<00:15,  2.22s/it]\u001b[A\n",
      " 70%|███████   | 14/20 [00:31<00:13,  2.27s/it]\u001b[A\n",
      " 75%|███████▌  | 15/20 [00:34<00:11,  2.25s/it]\u001b[A\n",
      " 80%|████████  | 16/20 [00:36<00:09,  2.30s/it]\u001b[A\n",
      " 85%|████████▌ | 17/20 [00:39<00:07,  2.40s/it]\u001b[A\n",
      " 90%|█████████ | 18/20 [00:41<00:04,  2.32s/it]\u001b[A\n",
      " 95%|█████████▌| 19/20 [00:43<00:02,  2.26s/it]\u001b[A\n",
      "100%|██████████| 20/20 [00:45<00:00,  2.28s/it]\n",
      " 80%|████████  | 4/5 [03:09<00:47, 47.21s/it]\n",
      "  0%|          | 0/20 [00:00<?, ?it/s]\u001b[A\n",
      "  5%|▌         | 1/20 [00:02<00:39,  2.09s/it]\u001b[A\n",
      " 10%|█         | 2/20 [00:04<00:38,  2.13s/it]\u001b[A\n",
      " 15%|█▌        | 3/20 [00:06<00:37,  2.19s/it]\u001b[A\n",
      " 20%|██        | 4/20 [00:09<00:36,  2.27s/it]\u001b[A\n",
      " 25%|██▌       | 5/20 [00:11<00:34,  2.27s/it]\u001b[A\n",
      " 30%|███       | 6/20 [00:13<00:31,  2.24s/it]\u001b[A\n",
      " 35%|███▌      | 7/20 [00:15<00:29,  2.30s/it]\u001b[A\n",
      " 40%|████      | 8/20 [00:18<00:27,  2.31s/it]\u001b[A\n",
      " 45%|████▌     | 9/20 [00:20<00:25,  2.32s/it]\u001b[A\n",
      " 50%|█████     | 10/20 [00:22<00:23,  2.32s/it]\u001b[A\n",
      " 55%|█████▌    | 11/20 [00:25<00:21,  2.34s/it]\u001b[A\n",
      " 60%|██████    | 12/20 [00:27<00:19,  2.38s/it]\u001b[A\n",
      " 65%|██████▌   | 13/20 [00:30<00:16,  2.37s/it]\u001b[A\n",
      " 70%|███████   | 14/20 [00:32<00:14,  2.44s/it]\u001b[A\n",
      " 75%|███████▌  | 15/20 [00:34<00:11,  2.35s/it]\u001b[A\n",
      " 80%|████████  | 16/20 [00:37<00:09,  2.33s/it]\u001b[A\n",
      " 85%|████████▌ | 17/20 [00:39<00:06,  2.30s/it]\u001b[A\n",
      " 90%|█████████ | 18/20 [00:41<00:04,  2.25s/it]\u001b[A\n",
      " 95%|█████████▌| 19/20 [00:43<00:02,  2.19s/it]\u001b[A\n",
      "100%|██████████| 20/20 [00:45<00:00,  2.29s/it]\n",
      "100%|██████████| 5/5 [03:55<00:00, 47.13s/it]\n"
     ]
    }
   ],
   "source": [
    "mejores_fitnesses = []\n",
    "\n",
    "for part in tqdm(parts):\n",
    "    # Definimos la funcion de fitness a utilizar (depende de algunos datos cargados)\n",
    "    def f_fitness(vars):\n",
    "        alfa0 = vars[0]\n",
    "        umbral = vars[1]\n",
    "        phi = vars[2:7]\n",
    "        psi = vars[7:]\n",
    "\n",
    "        srga = SRGA(alfa0, phi, psi, umbral)\n",
    "\n",
    "        v_apts = np.zeros(n)\n",
    "        scheds = np.random.choice(part, size=n)\n",
    "\n",
    "        for i, s in enumerate(scheds):\n",
    "            l = lens[s]\n",
    "            if m_t[s,l-1] < interrev:\n",
    "                continue\n",
    "\n",
    "            v_apts[i] = fitness(s, m_t[s,:l], m_c[s,:l], m_s[s,:l], srs=srga)\n",
    "        \n",
    "        return np.average(v_apts)\n",
    "    \n",
    "    # Definimos parametros a usar en el evolutivo\n",
    "    evolutivo_kwargs = {\n",
    "                'N'                : N_ind,\n",
    "                'v_var'            : var_bits,\n",
    "                'probCrossOver'    : 0.9,\n",
    "                'probMutation'     : 0.2,\n",
    "                'f_deco'           : DecoDecimal,\n",
    "                'f_fitness'        : f_fitness,\n",
    "                'maxGens'          : max_gen,\n",
    "                'debugLvl'         : 90,\n",
    "    }\n",
    "\n",
    "    #Evolucionamos\n",
    "    ga = GA(**evolutivo_kwargs)\n",
    "    ga.Evolve(brecha=0)\n",
    "    # Guardamos datos\n",
    "    mejores_fitnesses.append(ga.bestFitness)"
   ]
  },
  {
   "cell_type": "code",
   "execution_count": 9,
   "metadata": {},
   "outputs": [
    {
     "output_type": "execute_result",
     "data": {
      "text/plain": [
       "[109.31002682060804,\n",
       " 82.66546398652027,\n",
       " 78.33324202002277,\n",
       " 110.08014979548622,\n",
       " 87.36749882433654]"
      ]
     },
     "metadata": {},
     "execution_count": 9
    }
   ],
   "source": [
    "mejores_fitnesses"
   ]
  },
  {
   "cell_type": "code",
   "execution_count": 13,
   "metadata": {},
   "outputs": [
    {
     "output_type": "stream",
     "name": "stdout",
     "text": [
      "mean: 93.55127628939476\nsigma: 13.489777299421537\nmedian: 87.36749882433654\n"
     ]
    }
   ],
   "source": [
    "meanF = np.mean(mejores_fitnesses)\n",
    "sigmaF = np.std(mejores_fitnesses)\n",
    "medianF = np.median(mejores_fitnesses)\n",
    "print(\"mean:\",meanF)\n",
    "print(\"sigma:\",sigmaF)\n",
    "print(\"median:\",medianF)"
   ]
  },
  {
   "source": [
    "import matplotlib.pyplot as plt\n",
    "plt.boxplot(mejores_fitnesses)\n",
    "plt.show()"
   ],
   "cell_type": "code",
   "metadata": {},
   "execution_count": 12,
   "outputs": [
    {
     "output_type": "display_data",
     "data": {
      "text/plain": "<Figure size 432x288 with 1 Axes>",
      "image/svg+xml": "<?xml version=\"1.0\" encoding=\"utf-8\" standalone=\"no\"?>\r\n<!DOCTYPE svg PUBLIC \"-//W3C//DTD SVG 1.1//EN\"\r\n  \"http://www.w3.org/Graphics/SVG/1.1/DTD/svg11.dtd\">\r\n<!-- Created with matplotlib (https://matplotlib.org/) -->\r\n<svg height=\"248.518125pt\" version=\"1.1\" viewBox=\"0 0 375.2875 248.518125\" width=\"375.2875pt\" xmlns=\"http://www.w3.org/2000/svg\" xmlns:xlink=\"http://www.w3.org/1999/xlink\">\r\n <metadata>\r\n  <rdf:RDF xmlns:cc=\"http://creativecommons.org/ns#\" xmlns:dc=\"http://purl.org/dc/elements/1.1/\" xmlns:rdf=\"http://www.w3.org/1999/02/22-rdf-syntax-ns#\">\r\n   <cc:Work>\r\n    <dc:type rdf:resource=\"http://purl.org/dc/dcmitype/StillImage\"/>\r\n    <dc:date>2020-11-30T16:55:31.009944</dc:date>\r\n    <dc:format>image/svg+xml</dc:format>\r\n    <dc:creator>\r\n     <cc:Agent>\r\n      <dc:title>Matplotlib v3.3.3, https://matplotlib.org/</dc:title>\r\n     </cc:Agent>\r\n    </dc:creator>\r\n   </cc:Work>\r\n  </rdf:RDF>\r\n </metadata>\r\n <defs>\r\n  <style type=\"text/css\">*{stroke-linecap:butt;stroke-linejoin:round;}</style>\r\n </defs>\r\n <g id=\"figure_1\">\r\n  <g id=\"patch_1\">\r\n   <path d=\"M 0 248.518125 \r\nL 375.2875 248.518125 \r\nL 375.2875 0 \r\nL 0 0 \r\nz\r\n\" style=\"fill:none;\"/>\r\n  </g>\r\n  <g id=\"axes_1\">\r\n   <g id=\"patch_2\">\r\n    <path d=\"M 33.2875 224.64 \r\nL 368.0875 224.64 \r\nL 368.0875 7.2 \r\nL 33.2875 7.2 \r\nz\r\n\" style=\"fill:#ffffff;\"/>\r\n   </g>\r\n   <g id=\"matplotlib.axis_1\">\r\n    <g id=\"xtick_1\">\r\n     <g id=\"line2d_1\">\r\n      <defs>\r\n       <path d=\"M 0 0 \r\nL 0 3.5 \r\n\" id=\"mfb4f25a35d\" style=\"stroke:#000000;stroke-width:0.8;\"/>\r\n      </defs>\r\n      <g>\r\n       <use style=\"stroke:#000000;stroke-width:0.8;\" x=\"200.6875\" xlink:href=\"#mfb4f25a35d\" y=\"224.64\"/>\r\n      </g>\r\n     </g>\r\n     <g id=\"text_1\">\r\n      <!-- 1 -->\r\n      <g transform=\"translate(197.50625 239.238437)scale(0.1 -0.1)\">\r\n       <defs>\r\n        <path d=\"M 12.40625 8.296875 \r\nL 28.515625 8.296875 \r\nL 28.515625 63.921875 \r\nL 10.984375 60.40625 \r\nL 10.984375 69.390625 \r\nL 28.421875 72.90625 \r\nL 38.28125 72.90625 \r\nL 38.28125 8.296875 \r\nL 54.390625 8.296875 \r\nL 54.390625 0 \r\nL 12.40625 0 \r\nz\r\n\" id=\"DejaVuSans-49\"/>\r\n       </defs>\r\n       <use xlink:href=\"#DejaVuSans-49\"/>\r\n      </g>\r\n     </g>\r\n    </g>\r\n   </g>\r\n   <g id=\"matplotlib.axis_2\">\r\n    <g id=\"ytick_1\">\r\n     <g id=\"line2d_2\">\r\n      <defs>\r\n       <path d=\"M 0 0 \r\nL -3.5 0 \r\n\" id=\"m2cab1d138a\" style=\"stroke:#000000;stroke-width:0.8;\"/>\r\n      </defs>\r\n      <g>\r\n       <use style=\"stroke:#000000;stroke-width:0.8;\" x=\"33.2875\" xlink:href=\"#m2cab1d138a\" y=\"204.378263\"/>\r\n      </g>\r\n     </g>\r\n     <g id=\"text_2\">\r\n      <!-- 80 -->\r\n      <g transform=\"translate(13.5625 208.177482)scale(0.1 -0.1)\">\r\n       <defs>\r\n        <path d=\"M 31.78125 34.625 \r\nQ 24.75 34.625 20.71875 30.859375 \r\nQ 16.703125 27.09375 16.703125 20.515625 \r\nQ 16.703125 13.921875 20.71875 10.15625 \r\nQ 24.75 6.390625 31.78125 6.390625 \r\nQ 38.8125 6.390625 42.859375 10.171875 \r\nQ 46.921875 13.96875 46.921875 20.515625 \r\nQ 46.921875 27.09375 42.890625 30.859375 \r\nQ 38.875 34.625 31.78125 34.625 \r\nz\r\nM 21.921875 38.8125 \r\nQ 15.578125 40.375 12.03125 44.71875 \r\nQ 8.5 49.078125 8.5 55.328125 \r\nQ 8.5 64.0625 14.71875 69.140625 \r\nQ 20.953125 74.21875 31.78125 74.21875 \r\nQ 42.671875 74.21875 48.875 69.140625 \r\nQ 55.078125 64.0625 55.078125 55.328125 \r\nQ 55.078125 49.078125 51.53125 44.71875 \r\nQ 48 40.375 41.703125 38.8125 \r\nQ 48.828125 37.15625 52.796875 32.3125 \r\nQ 56.78125 27.484375 56.78125 20.515625 \r\nQ 56.78125 9.90625 50.3125 4.234375 \r\nQ 43.84375 -1.421875 31.78125 -1.421875 \r\nQ 19.734375 -1.421875 13.25 4.234375 \r\nQ 6.78125 9.90625 6.78125 20.515625 \r\nQ 6.78125 27.484375 10.78125 32.3125 \r\nQ 14.796875 37.15625 21.921875 38.8125 \r\nz\r\nM 18.3125 54.390625 \r\nQ 18.3125 48.734375 21.84375 45.5625 \r\nQ 25.390625 42.390625 31.78125 42.390625 \r\nQ 38.140625 42.390625 41.71875 45.5625 \r\nQ 45.3125 48.734375 45.3125 54.390625 \r\nQ 45.3125 60.0625 41.71875 63.234375 \r\nQ 38.140625 66.40625 31.78125 66.40625 \r\nQ 25.390625 66.40625 21.84375 63.234375 \r\nQ 18.3125 60.0625 18.3125 54.390625 \r\nz\r\n\" id=\"DejaVuSans-56\"/>\r\n        <path d=\"M 31.78125 66.40625 \r\nQ 24.171875 66.40625 20.328125 58.90625 \r\nQ 16.5 51.421875 16.5 36.375 \r\nQ 16.5 21.390625 20.328125 13.890625 \r\nQ 24.171875 6.390625 31.78125 6.390625 \r\nQ 39.453125 6.390625 43.28125 13.890625 \r\nQ 47.125 21.390625 47.125 36.375 \r\nQ 47.125 51.421875 43.28125 58.90625 \r\nQ 39.453125 66.40625 31.78125 66.40625 \r\nz\r\nM 31.78125 74.21875 \r\nQ 44.046875 74.21875 50.515625 64.515625 \r\nQ 56.984375 54.828125 56.984375 36.375 \r\nQ 56.984375 17.96875 50.515625 8.265625 \r\nQ 44.046875 -1.421875 31.78125 -1.421875 \r\nQ 19.53125 -1.421875 13.0625 8.265625 \r\nQ 6.59375 17.96875 6.59375 36.375 \r\nQ 6.59375 54.828125 13.0625 64.515625 \r\nQ 19.53125 74.21875 31.78125 74.21875 \r\nz\r\n\" id=\"DejaVuSans-48\"/>\r\n       </defs>\r\n       <use xlink:href=\"#DejaVuSans-56\"/>\r\n       <use x=\"63.623047\" xlink:href=\"#DejaVuSans-48\"/>\r\n      </g>\r\n     </g>\r\n    </g>\r\n    <g id=\"ytick_2\">\r\n     <g id=\"line2d_3\">\r\n      <g>\r\n       <use style=\"stroke:#000000;stroke-width:0.8;\" x=\"33.2875\" xlink:href=\"#m2cab1d138a\" y=\"173.245668\"/>\r\n      </g>\r\n     </g>\r\n     <g id=\"text_3\">\r\n      <!-- 85 -->\r\n      <g transform=\"translate(13.5625 177.044887)scale(0.1 -0.1)\">\r\n       <defs>\r\n        <path d=\"M 10.796875 72.90625 \r\nL 49.515625 72.90625 \r\nL 49.515625 64.59375 \r\nL 19.828125 64.59375 \r\nL 19.828125 46.734375 \r\nQ 21.96875 47.46875 24.109375 47.828125 \r\nQ 26.265625 48.1875 28.421875 48.1875 \r\nQ 40.625 48.1875 47.75 41.5 \r\nQ 54.890625 34.8125 54.890625 23.390625 \r\nQ 54.890625 11.625 47.5625 5.09375 \r\nQ 40.234375 -1.421875 26.90625 -1.421875 \r\nQ 22.3125 -1.421875 17.546875 -0.640625 \r\nQ 12.796875 0.140625 7.71875 1.703125 \r\nL 7.71875 11.625 \r\nQ 12.109375 9.234375 16.796875 8.0625 \r\nQ 21.484375 6.890625 26.703125 6.890625 \r\nQ 35.15625 6.890625 40.078125 11.328125 \r\nQ 45.015625 15.765625 45.015625 23.390625 \r\nQ 45.015625 31 40.078125 35.4375 \r\nQ 35.15625 39.890625 26.703125 39.890625 \r\nQ 22.75 39.890625 18.8125 39.015625 \r\nQ 14.890625 38.140625 10.796875 36.28125 \r\nz\r\n\" id=\"DejaVuSans-53\"/>\r\n       </defs>\r\n       <use xlink:href=\"#DejaVuSans-56\"/>\r\n       <use x=\"63.623047\" xlink:href=\"#DejaVuSans-53\"/>\r\n      </g>\r\n     </g>\r\n    </g>\r\n    <g id=\"ytick_3\">\r\n     <g id=\"line2d_4\">\r\n      <g>\r\n       <use style=\"stroke:#000000;stroke-width:0.8;\" x=\"33.2875\" xlink:href=\"#m2cab1d138a\" y=\"142.113072\"/>\r\n      </g>\r\n     </g>\r\n     <g id=\"text_4\">\r\n      <!-- 90 -->\r\n      <g transform=\"translate(13.5625 145.912291)scale(0.1 -0.1)\">\r\n       <defs>\r\n        <path d=\"M 10.984375 1.515625 \r\nL 10.984375 10.5 \r\nQ 14.703125 8.734375 18.5 7.8125 \r\nQ 22.3125 6.890625 25.984375 6.890625 \r\nQ 35.75 6.890625 40.890625 13.453125 \r\nQ 46.046875 20.015625 46.78125 33.40625 \r\nQ 43.953125 29.203125 39.59375 26.953125 \r\nQ 35.25 24.703125 29.984375 24.703125 \r\nQ 19.046875 24.703125 12.671875 31.3125 \r\nQ 6.296875 37.9375 6.296875 49.421875 \r\nQ 6.296875 60.640625 12.9375 67.421875 \r\nQ 19.578125 74.21875 30.609375 74.21875 \r\nQ 43.265625 74.21875 49.921875 64.515625 \r\nQ 56.59375 54.828125 56.59375 36.375 \r\nQ 56.59375 19.140625 48.40625 8.859375 \r\nQ 40.234375 -1.421875 26.421875 -1.421875 \r\nQ 22.703125 -1.421875 18.890625 -0.6875 \r\nQ 15.09375 0.046875 10.984375 1.515625 \r\nz\r\nM 30.609375 32.421875 \r\nQ 37.25 32.421875 41.125 36.953125 \r\nQ 45.015625 41.5 45.015625 49.421875 \r\nQ 45.015625 57.28125 41.125 61.84375 \r\nQ 37.25 66.40625 30.609375 66.40625 \r\nQ 23.96875 66.40625 20.09375 61.84375 \r\nQ 16.21875 57.28125 16.21875 49.421875 \r\nQ 16.21875 41.5 20.09375 36.953125 \r\nQ 23.96875 32.421875 30.609375 32.421875 \r\nz\r\n\" id=\"DejaVuSans-57\"/>\r\n       </defs>\r\n       <use xlink:href=\"#DejaVuSans-57\"/>\r\n       <use x=\"63.623047\" xlink:href=\"#DejaVuSans-48\"/>\r\n      </g>\r\n     </g>\r\n    </g>\r\n    <g id=\"ytick_4\">\r\n     <g id=\"line2d_5\">\r\n      <g>\r\n       <use style=\"stroke:#000000;stroke-width:0.8;\" x=\"33.2875\" xlink:href=\"#m2cab1d138a\" y=\"110.980477\"/>\r\n      </g>\r\n     </g>\r\n     <g id=\"text_5\">\r\n      <!-- 95 -->\r\n      <g transform=\"translate(13.5625 114.779696)scale(0.1 -0.1)\">\r\n       <use xlink:href=\"#DejaVuSans-57\"/>\r\n       <use x=\"63.623047\" xlink:href=\"#DejaVuSans-53\"/>\r\n      </g>\r\n     </g>\r\n    </g>\r\n    <g id=\"ytick_5\">\r\n     <g id=\"line2d_6\">\r\n      <g>\r\n       <use style=\"stroke:#000000;stroke-width:0.8;\" x=\"33.2875\" xlink:href=\"#m2cab1d138a\" y=\"79.847881\"/>\r\n      </g>\r\n     </g>\r\n     <g id=\"text_6\">\r\n      <!-- 100 -->\r\n      <g transform=\"translate(7.2 83.6471)scale(0.1 -0.1)\">\r\n       <use xlink:href=\"#DejaVuSans-49\"/>\r\n       <use x=\"63.623047\" xlink:href=\"#DejaVuSans-48\"/>\r\n       <use x=\"127.246094\" xlink:href=\"#DejaVuSans-48\"/>\r\n      </g>\r\n     </g>\r\n    </g>\r\n    <g id=\"ytick_6\">\r\n     <g id=\"line2d_7\">\r\n      <g>\r\n       <use style=\"stroke:#000000;stroke-width:0.8;\" x=\"33.2875\" xlink:href=\"#m2cab1d138a\" y=\"48.715286\"/>\r\n      </g>\r\n     </g>\r\n     <g id=\"text_7\">\r\n      <!-- 105 -->\r\n      <g transform=\"translate(7.2 52.514505)scale(0.1 -0.1)\">\r\n       <use xlink:href=\"#DejaVuSans-49\"/>\r\n       <use x=\"63.623047\" xlink:href=\"#DejaVuSans-48\"/>\r\n       <use x=\"127.246094\" xlink:href=\"#DejaVuSans-53\"/>\r\n      </g>\r\n     </g>\r\n    </g>\r\n    <g id=\"ytick_7\">\r\n     <g id=\"line2d_8\">\r\n      <g>\r\n       <use style=\"stroke:#000000;stroke-width:0.8;\" x=\"33.2875\" xlink:href=\"#m2cab1d138a\" y=\"17.582691\"/>\r\n      </g>\r\n     </g>\r\n     <g id=\"text_8\">\r\n      <!-- 110 -->\r\n      <g transform=\"translate(7.2 21.381909)scale(0.1 -0.1)\">\r\n       <use xlink:href=\"#DejaVuSans-49\"/>\r\n       <use x=\"63.623047\" xlink:href=\"#DejaVuSans-49\"/>\r\n       <use x=\"127.246094\" xlink:href=\"#DejaVuSans-48\"/>\r\n      </g>\r\n     </g>\r\n    </g>\r\n   </g>\r\n   <g id=\"line2d_9\">\r\n    <path clip-path=\"url(#p1bf635f119)\" d=\"M 175.5775 187.781701 \r\nL 225.7975 187.781701 \r\nL 225.7975 21.878822 \r\nL 175.5775 21.878822 \r\nL 175.5775 187.781701 \r\n\" style=\"fill:none;stroke:#000000;stroke-linecap:square;\"/>\r\n   </g>\r\n   <g id=\"line2d_10\">\r\n    <path clip-path=\"url(#p1bf635f119)\" d=\"M 200.6875 187.781701 \r\nL 200.6875 214.756364 \r\n\" style=\"fill:none;stroke:#000000;stroke-linecap:square;\"/>\r\n   </g>\r\n   <g id=\"line2d_11\">\r\n    <path clip-path=\"url(#p1bf635f119)\" d=\"M 200.6875 21.878822 \r\nL 200.6875 17.083636 \r\n\" style=\"fill:none;stroke:#000000;stroke-linecap:square;\"/>\r\n   </g>\r\n   <g id=\"line2d_12\">\r\n    <path clip-path=\"url(#p1bf635f119)\" d=\"M 188.1325 214.756364 \r\nL 213.2425 214.756364 \r\n\" style=\"fill:none;stroke:#000000;stroke-linecap:square;\"/>\r\n   </g>\r\n   <g id=\"line2d_13\">\r\n    <path clip-path=\"url(#p1bf635f119)\" d=\"M 188.1325 17.083636 \r\nL 213.2425 17.083636 \r\n\" style=\"fill:none;stroke:#000000;stroke-linecap:square;\"/>\r\n   </g>\r\n   <g id=\"line2d_14\"/>\r\n   <g id=\"line2d_15\">\r\n    <path clip-path=\"url(#p1bf635f119)\" d=\"M 175.5775 158.504391 \r\nL 225.7975 158.504391 \r\n\" style=\"fill:none;stroke:#ff7f0e;stroke-linecap:square;\"/>\r\n   </g>\r\n   <g id=\"patch_3\">\r\n    <path d=\"M 33.2875 224.64 \r\nL 33.2875 7.2 \r\n\" style=\"fill:none;stroke:#000000;stroke-linecap:square;stroke-linejoin:miter;stroke-width:0.8;\"/>\r\n   </g>\r\n   <g id=\"patch_4\">\r\n    <path d=\"M 368.0875 224.64 \r\nL 368.0875 7.2 \r\n\" style=\"fill:none;stroke:#000000;stroke-linecap:square;stroke-linejoin:miter;stroke-width:0.8;\"/>\r\n   </g>\r\n   <g id=\"patch_5\">\r\n    <path d=\"M 33.2875 224.64 \r\nL 368.0875 224.64 \r\n\" style=\"fill:none;stroke:#000000;stroke-linecap:square;stroke-linejoin:miter;stroke-width:0.8;\"/>\r\n   </g>\r\n   <g id=\"patch_6\">\r\n    <path d=\"M 33.2875 7.2 \r\nL 368.0875 7.2 \r\n\" style=\"fill:none;stroke:#000000;stroke-linecap:square;stroke-linejoin:miter;stroke-width:0.8;\"/>\r\n   </g>\r\n  </g>\r\n </g>\r\n <defs>\r\n  <clipPath id=\"p1bf635f119\">\r\n   <rect height=\"217.44\" width=\"334.8\" x=\"33.2875\" y=\"7.2\"/>\r\n  </clipPath>\r\n </defs>\r\n</svg>\r\n",
      "image/png": "[encoded data removed]"
     },
     "metadata": {
      "needs_background": "light"
     }
    }
   ]
  },
  {
   "cell_type": "code",
   "execution_count": null,
   "metadata": {},
   "outputs": [],
   "source": []
  }
 ]
}